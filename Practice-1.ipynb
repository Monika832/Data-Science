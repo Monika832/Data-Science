{
 "cells": [
  {
   "cell_type": "code",
   "execution_count": 1,
   "id": "4a7683f1-6791-41ac-b4af-0060f36ff404",
   "metadata": {},
   "outputs": [],
   "source": [
    "def shadow(name):\n",
    "    print(\"my name is monika\",name)"
   ]
  },
  {
   "cell_type": "code",
   "execution_count": 2,
   "id": "0b08d505-9403-4886-9314-8752d3369c18",
   "metadata": {},
   "outputs": [
    {
     "name": "stdout",
     "output_type": "stream",
     "text": [
      "my name is mobika ravi\n"
     ]
    }
   ],
   "source": [
    "shadow(\"ravi\")"
   ]
  },
  {
   "cell_type": "code",
   "execution_count": 3,
   "id": "607dea2c-a16b-46da-891b-3fcc22fa401a",
   "metadata": {},
   "outputs": [
    {
     "data": {
      "text/plain": [
       "'k'"
      ]
     },
     "execution_count": 3,
     "metadata": {},
     "output_type": "execute_result"
    }
   ],
   "source": [
    "format(\"k\")"
   ]
  },
  {
   "cell_type": "code",
   "execution_count": 4,
   "id": "7dac17cb-140b-48f0-8d4a-2cf791e20b1c",
   "metadata": {},
   "outputs": [],
   "source": [
    "def add(a,b):\n",
    "    (a+b);"
   ]
  },
  {
   "cell_type": "code",
   "execution_count": 5,
   "id": "1f42a815-09d1-41b5-9f23-abb160972fe5",
   "metadata": {},
   "outputs": [],
   "source": [
    "add(4,5)"
   ]
  },
  {
   "cell_type": "code",
   "execution_count": 6,
   "id": "5f977a62-77ef-458f-97e1-4fefd5080558",
   "metadata": {},
   "outputs": [],
   "source": [
    "x=add(1,8)"
   ]
  },
  {
   "cell_type": "code",
   "execution_count": 7,
   "id": "8e500ad4-2e50-4689-a793-07341348f9a1",
   "metadata": {},
   "outputs": [
    {
     "name": "stdout",
     "output_type": "stream",
     "text": [
      "None\n"
     ]
    }
   ],
   "source": [
    "print(x)"
   ]
  },
  {
   "cell_type": "code",
   "execution_count": 8,
   "id": "0b11bf37-7d35-4fa7-92a6-a4530cf5852a",
   "metadata": {},
   "outputs": [],
   "source": [
    "#so to resolve this we need to return from our function"
   ]
  },
  {
   "cell_type": "markdown",
   "id": "8cc31f0d-45d7-437a-901f-aeb25ffe1864",
   "metadata": {},
   "source": [
    "## return statement"
   ]
  },
  {
   "cell_type": "code",
   "execution_count": 9,
   "id": "ed7a6e84-6825-45f8-a3ac-b2959e512fe2",
   "metadata": {},
   "outputs": [],
   "source": [
    "def add(a,b):\n",
    "    return (a+b);"
   ]
  },
  {
   "cell_type": "code",
   "execution_count": 10,
   "id": "0f0fb993-f718-4fc3-8dc0-6a320f23cd4c",
   "metadata": {},
   "outputs": [
    {
     "data": {
      "text/plain": [
       "14"
      ]
     },
     "execution_count": 10,
     "metadata": {},
     "output_type": "execute_result"
    }
   ],
   "source": [
    "add(5,9)"
   ]
  },
  {
   "cell_type": "code",
   "execution_count": 11,
   "id": "ce564290-f3e1-463a-93c3-f723cb08bdd2",
   "metadata": {},
   "outputs": [],
   "source": [
    "x=add(2,9)"
   ]
  },
  {
   "cell_type": "code",
   "execution_count": 12,
   "id": "100e3bc8-7dc3-43be-b482-0cb25bc0a073",
   "metadata": {},
   "outputs": [
    {
     "name": "stdout",
     "output_type": "stream",
     "text": [
      "11\n"
     ]
    }
   ],
   "source": [
    "print(x)"
   ]
  },
  {
   "cell_type": "markdown",
   "id": "f3183e64-1acc-4d79-af83-66c906535c4c",
   "metadata": {},
   "source": [
    "## finally,try, except"
   ]
  },
  {
   "cell_type": "code",
   "execution_count": 13,
   "id": "0e1dd76c-f3b2-4114-ad06-975668e43d5b",
   "metadata": {},
   "outputs": [],
   "source": [
    "def div(a,b):\n",
    "    try :\n",
    "        return a/b\n",
    "    except:\n",
    "        print(\"Error\")\n",
    "    finally:\n",
    "        print(\"Wrapping up\")"
   ]
  },
  {
   "cell_type": "code",
   "execution_count": 14,
   "id": "a1df6763-6c83-4c9e-bbf0-0cabf2e2065e",
   "metadata": {},
   "outputs": [
    {
     "name": "stdout",
     "output_type": "stream",
     "text": [
      "Wrapping up\n"
     ]
    },
    {
     "data": {
      "text/plain": [
       "10.0"
      ]
     },
     "execution_count": 14,
     "metadata": {},
     "output_type": "execute_result"
    }
   ],
   "source": [
    "div(10,1)"
   ]
  },
  {
   "cell_type": "code",
   "execution_count": 15,
   "id": "eeb0ac3f-5784-4c62-94d1-e675e7fec53e",
   "metadata": {},
   "outputs": [
    {
     "name": "stdout",
     "output_type": "stream",
     "text": [
      "Error\n",
      "Wrapping up\n"
     ]
    }
   ],
   "source": [
    "div(10,0)"
   ]
  },
  {
   "cell_type": "code",
   "execution_count": 18,
   "id": "933a8ca5-3085-4610-8ac7-98e6801e17fc",
   "metadata": {},
   "outputs": [],
   "source": [
    "def div(a,b):\n",
    "    try :\n",
    "        return a/b\n",
    "    except:\n",
    "        return 9;\n",
    "    finally:\n",
    "        print(\"Wrapping up\")\n",
    "        return 10"
   ]
  },
  {
   "cell_type": "code",
   "execution_count": 19,
   "id": "5647f0a1-3f63-4b8c-9f49-6a25e9d1556d",
   "metadata": {},
   "outputs": [
    {
     "name": "stdout",
     "output_type": "stream",
     "text": [
      "Wrapping up\n"
     ]
    },
    {
     "data": {
      "text/plain": [
       "10"
      ]
     },
     "execution_count": 19,
     "metadata": {},
     "output_type": "execute_result"
    }
   ],
   "source": [
    "div(10,2)"
   ]
  },
  {
   "cell_type": "code",
   "execution_count": 20,
   "id": "508e9bf4-e2be-4dc3-b5ea-2caa31b53944",
   "metadata": {},
   "outputs": [],
   "source": [
    "def div(a,b):\n",
    "    try :\n",
    "        return a/b\n",
    "    except:\n",
    "        return 9;\n",
    "    finally:\n",
    "        print(\"Wrapping up\")"
   ]
  },
  {
   "cell_type": "code",
   "execution_count": 21,
   "id": "c99ac92e-af50-48dc-b3ed-64933edcba89",
   "metadata": {},
   "outputs": [
    {
     "name": "stdout",
     "output_type": "stream",
     "text": [
      "Wrapping up\n"
     ]
    },
    {
     "data": {
      "text/plain": [
       "9"
      ]
     },
     "execution_count": 21,
     "metadata": {},
     "output_type": "execute_result"
    }
   ],
   "source": [
    "div(10,0)"
   ]
  },
  {
   "cell_type": "markdown",
   "id": "2b2bd7e4-7038-4e05-9d69-9ccc60790f83",
   "metadata": {},
   "source": [
    "## Local and global variables"
   ]
  },
  {
   "cell_type": "code",
   "execution_count": 1,
   "id": "812f82fd-2fc6-4528-b0ae-79b8e3447450",
   "metadata": {},
   "outputs": [],
   "source": [
    "x=45\n",
    "def show():\n",
    "    x=7\n",
    "    print(x)"
   ]
  },
  {
   "cell_type": "code",
   "execution_count": 2,
   "id": "83c6e6f7-4373-46ed-b585-56462c274384",
   "metadata": {},
   "outputs": [
    {
     "name": "stdout",
     "output_type": "stream",
     "text": [
      "7\n",
      "45\n"
     ]
    }
   ],
   "source": [
    "show()\n",
    "print(x)"
   ]
  },
  {
   "cell_type": "code",
   "execution_count": 6,
   "id": "e05c9be7-d7e2-4e37-9e14-8040a2cea352",
   "metadata": {},
   "outputs": [],
   "source": [
    "x=45\n",
    "def show():\n",
    "    global x\n",
    "    x+=7\n",
    "    print(x)"
   ]
  },
  {
   "cell_type": "code",
   "execution_count": 7,
   "id": "e40b1c77-8b45-4233-80b3-e2b559b14837",
   "metadata": {},
   "outputs": [
    {
     "name": "stdout",
     "output_type": "stream",
     "text": [
      "52\n",
      "52\n"
     ]
    }
   ],
   "source": [
    "show()\n",
    "print(x)"
   ]
  },
  {
   "cell_type": "markdown",
   "id": "ead1224d-c157-4ecf-b82e-f135db7f0c80",
   "metadata": {},
   "source": [
    "## Default argument values "
   ]
  },
  {
   "cell_type": "code",
   "execution_count": 36,
   "id": "5afba017-8f28-4b04-a4c3-87221dca50a3",
   "metadata": {},
   "outputs": [],
   "source": [
    "def abc(a,b,c,d=\"something\",i=\"something more\"):\n",
    "    print(a)\n",
    "    print(b)\n",
    "    print(c)\n",
    "    print(d)\n",
    "    print(i)"
   ]
  },
  {
   "cell_type": "code",
   "execution_count": 38,
   "id": "d66bcf8c-a9f2-4f3f-a3ad-c03af1dcf2a2",
   "metadata": {},
   "outputs": [
    {
     "name": "stdout",
     "output_type": "stream",
     "text": [
      "my\n",
      "yoyo\n",
      "help\n",
      "something\n",
      "monika\n"
     ]
    }
   ],
   "source": [
    "abc(\"my\",\"yoyo\",\"help\",i=\"monika\")"
   ]
  },
  {
   "cell_type": "code",
   "execution_count": 39,
   "id": "a62729ac-86a6-4ef0-8e47-e33206a9a87c",
   "metadata": {},
   "outputs": [],
   "source": [
    "# *args packed the psotional argument into a tuple and pass into function"
   ]
  },
  {
   "cell_type": "code",
   "execution_count": 40,
   "id": "4ee8f8bd-0b33-4c82-8d88-db151848cd44",
   "metadata": {},
   "outputs": [],
   "source": [
    "def show(*args):\n",
    "    print(args)"
   ]
  },
  {
   "cell_type": "code",
   "execution_count": 41,
   "id": "b20f5616-76ff-4a71-add9-a6a158d735eb",
   "metadata": {},
   "outputs": [
    {
     "name": "stdout",
     "output_type": "stream",
     "text": [
      "(1, 'k', 'p')\n"
     ]
    }
   ],
   "source": [
    "show(1,\"k\",\"p\")"
   ]
  },
  {
   "cell_type": "code",
   "execution_count": 45,
   "id": "a74cfdd5-eaf3-4066-8b9f-44286c4f0aa5",
   "metadata": {},
   "outputs": [],
   "source": [
    "def show(a,b,c,*args): #it will take atleast 3 argument \n",
    "    print(args)\n",
    "    print(a)\n",
    "    print(b)\n",
    "    print(c)"
   ]
  },
  {
   "cell_type": "code",
   "execution_count": 46,
   "id": "ceab512e-7e82-4c85-a56b-53558690f458",
   "metadata": {},
   "outputs": [
    {
     "name": "stdout",
     "output_type": "stream",
     "text": [
      "()\n",
      "10\n",
      "45\n",
      "l\n"
     ]
    }
   ],
   "source": [
    "show(10,45,\"l\")"
   ]
  },
  {
   "cell_type": "code",
   "execution_count": 47,
   "id": "0e2e6089-9587-4d11-a5bf-032445fd945c",
   "metadata": {},
   "outputs": [],
   "source": [
    "# ** kwargs all the keyworded argument will be packed into dictionary"
   ]
  },
  {
   "cell_type": "code",
   "execution_count": 58,
   "id": "ed5fe896-a72f-4965-b831-e5d0b2ff44f2",
   "metadata": {},
   "outputs": [],
   "source": [
    "def show(a,b,**kwas):\n",
    "    print(kwas)\n",
    "    print(a)"
   ]
  },
  {
   "cell_type": "code",
   "execution_count": 59,
   "id": "f4dd8951-67c4-492b-931f-e8e9e58be8d2",
   "metadata": {},
   "outputs": [
    {
     "name": "stdout",
     "output_type": "stream",
     "text": [
      "{'l': '10', 'm': '26', 'n': '0'}\n",
      "1\n"
     ]
    }
   ],
   "source": [
    "show(1,3,l=\"10\",m=\"26\",n=\"0\")"
   ]
  },
  {
   "cell_type": "code",
   "execution_count": 60,
   "id": "cc4c8988-d69b-4626-9274-2a9ee055bd40",
   "metadata": {},
   "outputs": [],
   "source": [
    "## format \n",
    "##def show(positional arguments,packwd posiitional arguement,keyworded arguements,packed keyworded arguments)"
   ]
  },
  {
   "cell_type": "markdown",
   "id": "8af11ac3-8793-4b29-b28c-2acc72ed5959",
   "metadata": {},
   "source": [
    "## Lambda function"
   ]
  },
  {
   "cell_type": "code",
   "execution_count": 61,
   "id": "40fe9339-f389-4b0a-aadf-595c3c6ce059",
   "metadata": {},
   "outputs": [],
   "source": [
    " add=lambda a,b: a+b"
   ]
  },
  {
   "cell_type": "code",
   "execution_count": 62,
   "id": "53640298-2031-4c4d-ae10-42e46c315230",
   "metadata": {},
   "outputs": [
    {
     "name": "stdout",
     "output_type": "stream",
     "text": [
      "<function <lambda> at 0x0000017041FFFC10>\n"
     ]
    }
   ],
   "source": [
    "print(add)"
   ]
  },
  {
   "cell_type": "code",
   "execution_count": 63,
   "id": "15cf1fc3-6c17-46b8-ba3f-455c94d6ecc9",
   "metadata": {},
   "outputs": [
    {
     "data": {
      "text/plain": [
       "6"
      ]
     },
     "execution_count": 63,
     "metadata": {},
     "output_type": "execute_result"
    }
   ],
   "source": [
    "add(1,5)"
   ]
  },
  {
   "cell_type": "code",
   "execution_count": 64,
   "id": "c7a454f6-ddf8-42bc-adf0-a96b6f306da7",
   "metadata": {},
   "outputs": [],
   "source": [
    "a=[(\"jatin\",5),(\"prateek\",1),(\"monika\",5),(\"ravi\",9)]"
   ]
  },
  {
   "cell_type": "code",
   "execution_count": 65,
   "id": "33b9377e-cf2b-41e0-8c76-1b2c37d619b7",
   "metadata": {},
   "outputs": [
    {
     "data": {
      "text/plain": [
       "[('jatin', 5), ('monika', 5), ('prateek', 1), ('ravi', 9)]"
      ]
     },
     "execution_count": 65,
     "metadata": {},
     "output_type": "execute_result"
    }
   ],
   "source": [
    "sorted(a)"
   ]
  },
  {
   "cell_type": "code",
   "execution_count": 66,
   "id": "3d0405a8-f2db-4ed6-ad2b-01c75365299e",
   "metadata": {},
   "outputs": [
    {
     "data": {
      "text/plain": [
       "[('prateek', 1), ('jatin', 5), ('monika', 5), ('ravi', 9)]"
      ]
     },
     "execution_count": 66,
     "metadata": {},
     "output_type": "execute_result"
    }
   ],
   "source": [
    "sorted(a,key=lambda x:x[1])"
   ]
  },
  {
   "cell_type": "code",
   "execution_count": 67,
   "id": "9144af78-19c6-42c2-ad6a-9581fad350bb",
   "metadata": {},
   "outputs": [
    {
     "data": {
      "text/plain": [
       "[('jatin', 5), ('monika', 5), ('prateek', 1), ('ravi', 9)]"
      ]
     },
     "execution_count": 67,
     "metadata": {},
     "output_type": "execute_result"
    }
   ],
   "source": [
    "sorted(a,key=lambda x:x[0])"
   ]
  },
  {
   "cell_type": "markdown",
   "id": "ba06e898-d24a-4582-87bb-124b67abf725",
   "metadata": {},
   "source": [
    "## Decorators"
   ]
  },
  {
   "cell_type": "code",
   "execution_count": 69,
   "id": "55b5e430-35bd-4e6b-b789-7687a5c20d3c",
   "metadata": {},
   "outputs": [],
   "source": [
    "users={\n",
    "    \"jatin\":\"password\",\n",
    "    \"ram\":\"ram123\",\n",
    "    \"prateek\":\"coding\"\n",
    "}"
   ]
  },
  {
   "cell_type": "code",
   "execution_count": 71,
   "id": "14f514c4-4001-4003-883e-f199eb9db8a3",
   "metadata": {},
   "outputs": [],
   "source": [
    "def show(username,password):\n",
    "    if username in users and users[username]==password:\n",
    "        print(\"great\")\n",
    "    else:\n",
    "        print(\"not authenticated\")"
   ]
  },
  {
   "cell_type": "code",
   "execution_count": 72,
   "id": "aa8f788f-de4b-47af-92f9-e0f416b588b5",
   "metadata": {},
   "outputs": [],
   "source": [
    "def add(username,password,a,b):\n",
    "    if username in users and users[username]==password:\n",
    "        print(a+b)\n",
    "    else:\n",
    "        print(\"not authenticated\")"
   ]
  },
  {
   "cell_type": "code",
   "execution_count": 73,
   "id": "11ed4469-d9db-48bd-948c-ffb279002f88",
   "metadata": {},
   "outputs": [
    {
     "name": "stdout",
     "output_type": "stream",
     "text": [
      "not authenticated\n"
     ]
    }
   ],
   "source": [
    "add(\"me\",\"password\",1,12)"
   ]
  },
  {
   "cell_type": "code",
   "execution_count": 110,
   "id": "c2c3cbf5-818b-4c00-b974-7711db7f59a4",
   "metadata": {},
   "outputs": [],
   "source": [
    "#instead of writing same code of authentication at many palces me just makke a function\n",
    "def login_req(func):\n",
    "    def wrapper(username,password,*args,**kwargs):\n",
    "        if username in users and users[username]==password:\n",
    "            func(*args,**kwargs)\n",
    "        else:\n",
    "            print(\"not authenticated\")\n",
    "            \n",
    "    return wrapper"
   ]
  },
  {
   "cell_type": "code",
   "execution_count": 111,
   "id": "8969079d-0265-497a-bb49-4ad46dfc109c",
   "metadata": {},
   "outputs": [],
   "source": [
    "def add(a,b):\n",
    "    print(a+b)"
   ]
  },
  {
   "cell_type": "code",
   "execution_count": 112,
   "id": "741cfe66-224d-4568-8082-02a04259e5b2",
   "metadata": {},
   "outputs": [
    {
     "name": "stdout",
     "output_type": "stream",
     "text": [
      "3\n"
     ]
    }
   ],
   "source": [
    "add(1,2)"
   ]
  },
  {
   "cell_type": "code",
   "execution_count": 113,
   "id": "370c09e1-e1b6-4e89-aade-839b66f58a88",
   "metadata": {},
   "outputs": [],
   "source": [
    "protected_add=login_req(add)"
   ]
  },
  {
   "cell_type": "code",
   "execution_count": 114,
   "id": "fda5f51c-78c1-4abe-97c6-516d8e608289",
   "metadata": {},
   "outputs": [
    {
     "name": "stdout",
     "output_type": "stream",
     "text": [
      "3\n"
     ]
    }
   ],
   "source": [
    "protected_add(\"jatin\",\"password\",1,2)"
   ]
  },
  {
   "cell_type": "code",
   "execution_count": 116,
   "id": "8cde0744-86e7-4c53-adee-140bfc47fe89",
   "metadata": {},
   "outputs": [],
   "source": [
    "def show():\n",
    "    print(\"great\")"
   ]
  },
  {
   "cell_type": "code",
   "execution_count": 117,
   "id": "dc8d9f93-9ad7-4c52-ad6b-ede42114fcbe",
   "metadata": {},
   "outputs": [],
   "source": [
    "protect_show=login_req(show)"
   ]
  },
  {
   "cell_type": "code",
   "execution_count": 120,
   "id": "744d1894-da2b-4893-8cd9-a153fa7c4564",
   "metadata": {},
   "outputs": [
    {
     "name": "stdout",
     "output_type": "stream",
     "text": [
      "great\n"
     ]
    }
   ],
   "source": [
    "protect_show(\"jatin\",\"password\")"
   ]
  },
  {
   "cell_type": "code",
   "execution_count": null,
   "id": "a72f13e0-9742-4182-aba3-aa9b7970807f",
   "metadata": {},
   "outputs": [],
   "source": []
  }
 ],
 "metadata": {
  "kernelspec": {
   "display_name": "Python 3 (ipykernel)",
   "language": "python",
   "name": "python3"
  },
  "language_info": {
   "codemirror_mode": {
    "name": "ipython",
    "version": 3
   },
   "file_extension": ".py",
   "mimetype": "text/x-python",
   "name": "python",
   "nbconvert_exporter": "python",
   "pygments_lexer": "ipython3",
   "version": "3.9.7"
  }
 },
 "nbformat": 4,
 "nbformat_minor": 5
}
