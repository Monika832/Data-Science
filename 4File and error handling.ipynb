{
 "cells": [
  {
   "cell_type": "markdown",
   "id": "674d63a2-4d40-4e1c-a67c-f6e1c1f7adfd",
   "metadata": {},
   "source": [
    "## File Access Modes"
   ]
  },
  {
   "cell_type": "code",
   "execution_count": 26,
   "id": "8a15e136-3c81-422f-953f-0b3c8b09a9dc",
   "metadata": {},
   "outputs": [],
   "source": [
    "#Opening a file\n",
    "file=open(\"hello.txt\",'r')"
   ]
  },
  {
   "cell_type": "code",
   "execution_count": 27,
   "id": "fa246b47-37f3-46ea-be30-7a9ac967df6e",
   "metadata": {},
   "outputs": [
    {
     "data": {
      "text/plain": [
       "'My n'"
      ]
     },
     "execution_count": 27,
     "metadata": {},
     "output_type": "execute_result"
    }
   ],
   "source": [
    "file.read(4)"
   ]
  },
  {
   "cell_type": "code",
   "execution_count": 28,
   "id": "0232668e-a1e0-4db9-b052-1db983254346",
   "metadata": {},
   "outputs": [],
   "source": [
    "file.close()"
   ]
  },
  {
   "cell_type": "code",
   "execution_count": 30,
   "id": "0fdc1723-1f8f-4f15-bd60-6f7c1b19f900",
   "metadata": {},
   "outputs": [],
   "source": [
    "#Writing to a file\n",
    "file=open(\"something.txt\",'w')"
   ]
  },
  {
   "cell_type": "code",
   "execution_count": 31,
   "id": "d2bc0e33-e28e-49a6-913d-88301de5e9af",
   "metadata": {},
   "outputs": [
    {
     "data": {
      "text/plain": [
       "11"
      ]
     },
     "execution_count": 31,
     "metadata": {},
     "output_type": "execute_result"
    }
   ],
   "source": [
    "file.write('Hello world')"
   ]
  },
  {
   "cell_type": "code",
   "execution_count": 32,
   "id": "5b1d99b0-bc26-4588-b3ed-94d599023cf1",
   "metadata": {},
   "outputs": [],
   "source": [
    "file.close()"
   ]
  },
  {
   "cell_type": "markdown",
   "id": "3e784f78-dd00-4278-99fd-15c1636310bd",
   "metadata": {},
   "source": [
    "## Reading a file\n",
    "read<br>\n",
    "readline<br>\n",
    "readlines"
   ]
  },
  {
   "cell_type": "code",
   "execution_count": 54,
   "id": "bbd9f823-e1af-4f8c-9c08-8bca39edb3ca",
   "metadata": {},
   "outputs": [],
   "source": [
    "file=open(\"hello.txt\",'r')"
   ]
  },
  {
   "cell_type": "code",
   "execution_count": 55,
   "id": "4d07a82f-2a5d-43ce-92ea-450ac3132ee5",
   "metadata": {},
   "outputs": [
    {
     "data": {
      "text/plain": [
       "'My name is Monika\\n'"
      ]
     },
     "execution_count": 55,
     "metadata": {},
     "output_type": "execute_result"
    }
   ],
   "source": [
    "file.readline()"
   ]
  },
  {
   "cell_type": "code",
   "execution_count": 56,
   "id": "14ab0e97-1731-4958-9c92-1c93d53b06d4",
   "metadata": {},
   "outputs": [
    {
     "data": {
      "text/plain": [
       "['hello\\n', 'world\\n', 'my self monika sharma\\n']"
      ]
     },
     "execution_count": 56,
     "metadata": {},
     "output_type": "execute_result"
    }
   ],
   "source": [
    "file.readlines()"
   ]
  },
  {
   "cell_type": "code",
   "execution_count": 57,
   "id": "be9e02fc-ca90-4335-8ea7-74dbdb55936e",
   "metadata": {},
   "outputs": [
    {
     "data": {
      "text/plain": [
       "0"
      ]
     },
     "execution_count": 57,
     "metadata": {},
     "output_type": "execute_result"
    }
   ],
   "source": [
    "file.seek(0)"
   ]
  },
  {
   "cell_type": "code",
   "execution_count": 58,
   "id": "592f7f8a-b661-4832-bc56-433f5db5e96e",
   "metadata": {},
   "outputs": [
    {
     "data": {
      "text/plain": [
       "'My name is Monika\\nhello\\nworld\\nmy self monika sharma\\n'"
      ]
     },
     "execution_count": 58,
     "metadata": {},
     "output_type": "execute_result"
    }
   ],
   "source": [
    "file.read()"
   ]
  },
  {
   "cell_type": "code",
   "execution_count": 60,
   "id": "1cf9e419-0f02-491c-8a41-0ec0755ada72",
   "metadata": {},
   "outputs": [],
   "source": [
    "file.close()"
   ]
  },
  {
   "cell_type": "markdown",
   "id": "4d6a9a81-c80d-444b-b6ab-77a2a1865e89",
   "metadata": {},
   "source": [
    "## JSON files"
   ]
  },
  {
   "cell_type": "markdown",
   "id": "6bb74c47-2d4e-453e-ad41-0efeaee6b789",
   "metadata": {},
   "source": [
    "## Error and Exception handling"
   ]
  },
  {
   "cell_type": "markdown",
   "id": "59e91bc2-5f6d-47f9-aac7-359201bf5f22",
   "metadata": {},
   "source": [
    "Error is something which occur due yo syntax <br>\n",
    "Ecxeption is which is synatactically correct but lead to error<br>\n",
    "We can handle exception"
   ]
  },
  {
   "cell_type": "code",
   "execution_count": 1,
   "id": "1e3e6f2c-cbd3-4eea-8f36-59f120b26a29",
   "metadata": {},
   "outputs": [
    {
     "ename": "SyntaxError",
     "evalue": "invalid syntax (Temp/ipykernel_14364/3194253658.py, line 1)",
     "output_type": "error",
     "traceback": [
      "\u001b[1;36m  File \u001b[1;32m\"C:\\Users\\lenovo\\AppData\\Local\\Temp/ipykernel_14364/3194253658.py\"\u001b[1;36m, line \u001b[1;32m1\u001b[0m\n\u001b[1;33m    fore i in range:\u001b[0m\n\u001b[1;37m         ^\u001b[0m\n\u001b[1;31mSyntaxError\u001b[0m\u001b[1;31m:\u001b[0m invalid syntax\n"
     ]
    }
   ],
   "source": [
    "fore i in range:   #  it is an error\n",
    "    print(i)"
   ]
  },
  {
   "cell_type": "code",
   "execution_count": 5,
   "id": "c8a67cf4-d83e-4807-a503-b7c4dd5c7751",
   "metadata": {},
   "outputs": [
    {
     "name": "stdout",
     "output_type": "stream",
     "text": [
      "Hello\n"
     ]
    },
    {
     "ename": "ZeroDivisionError",
     "evalue": "division by zero",
     "output_type": "error",
     "traceback": [
      "\u001b[1;31m---------------------------------------------------------------------------\u001b[0m",
      "\u001b[1;31mZeroDivisionError\u001b[0m                         Traceback (most recent call last)",
      "\u001b[1;32m~\\AppData\\Local\\Temp/ipykernel_14364/2748770924.py\u001b[0m in \u001b[0;36m<module>\u001b[1;34m\u001b[0m\n\u001b[0;32m      1\u001b[0m \u001b[0mprint\u001b[0m\u001b[1;33m(\u001b[0m\u001b[1;34m\"Hello\"\u001b[0m\u001b[1;33m)\u001b[0m\u001b[1;33m\u001b[0m\u001b[1;33m\u001b[0m\u001b[0m\n\u001b[1;32m----> 2\u001b[1;33m \u001b[0mprint\u001b[0m\u001b[1;33m(\u001b[0m\u001b[1;36m10\u001b[0m\u001b[1;33m/\u001b[0m\u001b[1;36m0\u001b[0m\u001b[1;33m)\u001b[0m \u001b[1;31m#exception\u001b[0m\u001b[1;33m\u001b[0m\u001b[1;33m\u001b[0m\u001b[0m\n\u001b[0m\u001b[0;32m      3\u001b[0m \u001b[0mprint\u001b[0m\u001b[1;33m(\u001b[0m\u001b[1;34m\"world\"\u001b[0m\u001b[1;33m)\u001b[0m\u001b[1;33m\u001b[0m\u001b[1;33m\u001b[0m\u001b[0m\n",
      "\u001b[1;31mZeroDivisionError\u001b[0m: division by zero"
     ]
    }
   ],
   "source": [
    "print(\"Hello\")\n",
    "print(10/0) #exception\n",
    "print(\"world\")"
   ]
  },
  {
   "cell_type": "code",
   "execution_count": 6,
   "id": "a8d7da84-e4bf-44ce-a76c-bfb0bd93d8fe",
   "metadata": {},
   "outputs": [
    {
     "name": "stdout",
     "output_type": "stream",
     "text": [
      "Hello\n"
     ]
    }
   ],
   "source": [
    "print(\"Hello\")\n",
    "def div(a,b):\n",
    "    try:\n",
    "        print(a/b)\n",
    "    except:\n",
    "        print(\"error\")"
   ]
  },
  {
   "cell_type": "code",
   "execution_count": 7,
   "id": "c7a77b8b-59b4-4a4b-b276-8ab1b5aff9fc",
   "metadata": {},
   "outputs": [
    {
     "name": "stdout",
     "output_type": "stream",
     "text": [
      "error\n"
     ]
    }
   ],
   "source": [
    "div(10,0)"
   ]
  },
  {
   "cell_type": "code",
   "execution_count": 8,
   "id": "0375cb36-2ea7-4472-b2d2-627ecf215173",
   "metadata": {},
   "outputs": [],
   "source": [
    "#We can also classify which type of class of exception is resolved by excepyion  block\n",
    "def div(a,b):\n",
    "    try:\n",
    "        print(a/b)\n",
    "    except ZeroDivisionError:\n",
    "        print(\"error\")"
   ]
  },
  {
   "cell_type": "code",
   "execution_count": 9,
   "id": "c3e764ef-0d38-48c3-a164-bbde15edfa04",
   "metadata": {},
   "outputs": [
    {
     "name": "stdout",
     "output_type": "stream",
     "text": [
      "error\n"
     ]
    }
   ],
   "source": [
    "div(10,0)"
   ]
  },
  {
   "cell_type": "code",
   "execution_count": 12,
   "id": "935a2240-4604-4fdd-9682-2d45cc762606",
   "metadata": {},
   "outputs": [
    {
     "ename": "ValueError",
     "evalue": "invalid literal for int() with base 10: 'jaytin'",
     "output_type": "error",
     "traceback": [
      "\u001b[1;31m---------------------------------------------------------------------------\u001b[0m",
      "\u001b[1;31mValueError\u001b[0m                                Traceback (most recent call last)",
      "\u001b[1;32m~\\AppData\\Local\\Temp/ipykernel_14364/1216849756.py\u001b[0m in \u001b[0;36m<module>\u001b[1;34m\u001b[0m\n\u001b[0;32m      1\u001b[0m \u001b[1;32mtry\u001b[0m\u001b[1;33m:\u001b[0m\u001b[1;33m\u001b[0m\u001b[1;33m\u001b[0m\u001b[0m\n\u001b[1;32m----> 2\u001b[1;33m     \u001b[0ma\u001b[0m\u001b[1;33m=\u001b[0m\u001b[0mint\u001b[0m\u001b[1;33m(\u001b[0m\u001b[1;34m\"jaytin\"\u001b[0m\u001b[1;33m)\u001b[0m\u001b[1;33m\u001b[0m\u001b[1;33m\u001b[0m\u001b[0m\n\u001b[0m\u001b[0;32m      3\u001b[0m \u001b[1;32mexcept\u001b[0m \u001b[0mZeroDivisionError\u001b[0m\u001b[1;33m:\u001b[0m\u001b[1;33m\u001b[0m\u001b[1;33m\u001b[0m\u001b[0m\n\u001b[0;32m      4\u001b[0m     \u001b[0mprint\u001b[0m\u001b[1;33m(\u001b[0m\u001b[1;34m\"error\"\u001b[0m\u001b[1;33m)\u001b[0m\u001b[1;33m\u001b[0m\u001b[1;33m\u001b[0m\u001b[0m\n",
      "\u001b[1;31mValueError\u001b[0m: invalid literal for int() with base 10: 'jaytin'"
     ]
    }
   ],
   "source": [
    "try:\n",
    "    a=int(\"jaytin\")\n",
    "except ZeroDivisionError:\n",
    "    print(\"error\")"
   ]
  },
  {
   "cell_type": "code",
   "execution_count": 14,
   "id": "4510c590-b5e5-42ad-b2f6-30ab1340f267",
   "metadata": {},
   "outputs": [
    {
     "name": "stdout",
     "output_type": "stream",
     "text": [
      "error\n"
     ]
    }
   ],
   "source": [
    "try:\n",
    "    a=int(\"jaytin\")\n",
    "except ValueError: #class of exception\n",
    "    print(\"error\")"
   ]
  },
  {
   "cell_type": "code",
   "execution_count": 17,
   "id": "5da1b5c8-a2eb-4dd8-ab91-4d9dabe393e0",
   "metadata": {},
   "outputs": [
    {
     "name": "stdout",
     "output_type": "stream",
     "text": [
      "trying to divide num with 0\n"
     ]
    }
   ],
   "source": [
    "try:\n",
    "    print(10/0)\n",
    "    a=int(\"jaytin\") #this try block is not excuted\n",
    "except ValueError: #class of exception\n",
    "    print(\"value error occured error\")\n",
    "except ZeroDivisionError:\n",
    "    print(\"trying to divide num with 0\")"
   ]
  },
  {
   "cell_type": "code",
   "execution_count": 18,
   "id": "e12e4ecb-fc72-44d4-91e9-9bf8cfc7a9e7",
   "metadata": {},
   "outputs": [
    {
     "name": "stdout",
     "output_type": "stream",
     "text": [
      "division by zero\n"
     ]
    }
   ],
   "source": [
    "#Built in function\n",
    "try:\n",
    "    print(10/0)\n",
    "except Exception as e:\n",
    "    print(str(e))\n",
    "        "
   ]
  },
  {
   "cell_type": "markdown",
   "id": "f86a54ea-8541-49ce-9c53-bc83a977e043",
   "metadata": {},
   "source": [
    "- else:will a.ways execute if the try block didnt threw ant error \n",
    "- finally:will always execute even if code throw error or not"
   ]
  },
  {
   "cell_type": "code",
   "execution_count": 19,
   "id": "e284ab7e-930c-45fd-a3f3-656d7fd2684f",
   "metadata": {},
   "outputs": [
    {
     "name": "stdout",
     "output_type": "stream",
     "text": [
      "hello world\n",
      "ok error occured\n",
      "bye bye world\n"
     ]
    }
   ],
   "source": [
    "try:\n",
    "    print(\"hello world\")\n",
    "    print(10/0)\n",
    "except:\n",
    "    print(\"ok error occured\")\n",
    "else:\n",
    "    print(\"woah\")\n",
    "finally:\n",
    "    # cleanup code\n",
    "    print(\"bye bye world\")"
   ]
  },
  {
   "cell_type": "code",
   "execution_count": 20,
   "id": "a43e3909-eeef-4902-ba9b-130785e59004",
   "metadata": {},
   "outputs": [],
   "source": [
    "def func():\n",
    "    try:\n",
    "        return 1\n",
    "    except:\n",
    "        return 2\n",
    "    else:\n",
    "        return 3\n",
    "    finally:\n",
    "        return 4\n",
    "        "
   ]
  },
  {
   "cell_type": "code",
   "execution_count": 21,
   "id": "1b13f2d3-3990-4ee2-bfab-109638b298ec",
   "metadata": {},
   "outputs": [
    {
     "data": {
      "text/plain": [
       "4"
      ]
     },
     "execution_count": 21,
     "metadata": {},
     "output_type": "execute_result"
    }
   ],
   "source": [
    "func()"
   ]
  },
  {
   "cell_type": "markdown",
   "id": "6c53525e-00b3-4ee9-8410-8c64cf31cff5",
   "metadata": {},
   "source": [
    "- with  statement :it is used when we have a predefined clean up action"
   ]
  },
  {
   "cell_type": "code",
   "execution_count": null,
   "id": "89fb1ac8-2f0d-43ec-9d95-b93c5a33eb25",
   "metadata": {},
   "outputs": [],
   "source": []
  }
 ],
 "metadata": {
  "kernelspec": {
   "display_name": "Python 3 (ipykernel)",
   "language": "python",
   "name": "python3"
  },
  "language_info": {
   "codemirror_mode": {
    "name": "ipython",
    "version": 3
   },
   "file_extension": ".py",
   "mimetype": "text/x-python",
   "name": "python",
   "nbconvert_exporter": "python",
   "pygments_lexer": "ipython3",
   "version": "3.9.7"
  }
 },
 "nbformat": 4,
 "nbformat_minor": 5
}
