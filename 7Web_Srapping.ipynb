{
 "cells": [
  {
   "cell_type": "markdown",
   "id": "d36bc000-67ee-43cc-ae98-21291847ddfb",
   "metadata": {},
   "source": [
    "## Data Scraping\n",
    "- Import Beautiful Soup\n",
    "- Make a get request ti fetch page data\n",
    "- Parse HTML\n",
    "- Filter relevant parts"
   ]
  },
  {
   "cell_type": "markdown",
   "id": "65416d12-20a6-4ac5-b635-6d1440164018",
   "metadata": {},
   "source": [
    "beautiful soup is a python library used to extract information from xml,html file"
   ]
  },
  {
   "cell_type": "code",
   "execution_count": 1,
   "id": "53b7b350-d952-4ed7-b4a7-197190bb58a2",
   "metadata": {},
   "outputs": [
    {
     "name": "stderr",
     "output_type": "stream",
     "text": [
      "WARNING: You are using pip version 22.0.4; however, version 22.1.2 is available.\n",
      "You should consider upgrading via the 'C:\\Users\\lenovo\\AppData\\Local\\Programs\\Python\\Python39\\python.exe -m pip install --upgrade pip' command.\n"
     ]
    },
    {
     "name": "stdout",
     "output_type": "stream",
     "text": [
      "Requirement already satisfied: bs4 in c:\\users\\lenovo\\appdata\\local\\programs\\python\\python39\\lib\\site-packages (0.0.1)\n",
      "Requirement already satisfied: beautifulsoup4 in c:\\users\\lenovo\\appdata\\local\\programs\\python\\python39\\lib\\site-packages (from bs4) (4.11.1)\n",
      "Requirement already satisfied: soupsieve>1.2 in c:\\users\\lenovo\\appdata\\local\\programs\\python\\python39\\lib\\site-packages (from beautifulsoup4->bs4) (2.3.2.post1)\n"
     ]
    }
   ],
   "source": [
    "!pip install bs4"
   ]
  },
  {
   "cell_type": "code",
   "execution_count": 2,
   "id": "2b10c376-3f3a-453f-a8cc-01cdb66bf205",
   "metadata": {},
   "outputs": [],
   "source": [
    "from urllib.request import urlopen"
   ]
  },
  {
   "cell_type": "code",
   "execution_count": 3,
   "id": "47823cac-f7c1-45c9-b40e-dfcbe69c997c",
   "metadata": {},
   "outputs": [],
   "source": [
    "anroid_url=\"https://en.wikipedia.org/wiki/Android_version_history\""
   ]
  },
  {
   "cell_type": "code",
   "execution_count": 4,
   "id": "a451b731-aff5-4aca-8d25-2fded1f5e4b0",
   "metadata": {},
   "outputs": [
    {
     "name": "stdout",
     "output_type": "stream",
     "text": [
      "<class 'http.client.HTTPResponse'>\n"
     ]
    }
   ],
   "source": [
    "anroid_data=urlopen(anroid_url)\n",
    "print(type(anroid_data))"
   ]
  },
  {
   "cell_type": "code",
   "execution_count": null,
   "id": "975c4457-8354-41c4-9bfb-eef74bdf32f1",
   "metadata": {},
   "outputs": [],
   "source": [
    "anroid_html=anroid_data.read()\n",
    "print(anroid_html)\n",
    "anroid_data.close()"
   ]
  },
  {
   "cell_type": "markdown",
   "id": "e8618a25-51a6-42d5-b4f3-3c443c100289",
   "metadata": {},
   "source": [
    "## Parsing Data(HTML content)"
   ]
  },
  {
   "cell_type": "code",
   "execution_count": 6,
   "id": "aec30ccd-5784-431e-aa0c-01a7fbe2c334",
   "metadata": {},
   "outputs": [],
   "source": [
    "from bs4 import BeautifulSoup as soup"
   ]
  },
  {
   "cell_type": "code",
   "execution_count": 7,
   "id": "5e9aef6b-354a-4317-8575-39be7cb31735",
   "metadata": {},
   "outputs": [],
   "source": [
    "anroid_soup=soup(anroid_html,\"html.parser\")"
   ]
  },
  {
   "cell_type": "code",
   "execution_count": null,
   "id": "478824a9-57cf-494a-8083-33bee871ed0d",
   "metadata": {},
   "outputs": [],
   "source": [
    "print(anroid_soup)"
   ]
  },
  {
   "cell_type": "code",
   "execution_count": 9,
   "id": "f5b7bfe4-71e2-4bb4-acb1-d86a137eed7d",
   "metadata": {},
   "outputs": [
    {
     "name": "stdout",
     "output_type": "stream",
     "text": [
      "<class 'bs4.BeautifulSoup'>\n"
     ]
    }
   ],
   "source": [
    "print(type(anroid_soup))"
   ]
  },
  {
   "cell_type": "code",
   "execution_count": 10,
   "id": "59448107-ea72-436b-9a4e-a6208f9da7e7",
   "metadata": {},
   "outputs": [
    {
     "data": {
      "text/plain": [
       "<h1 class=\"firstHeading mw-first-heading\" id=\"firstHeading\">Android version history</h1>"
      ]
     },
     "execution_count": 10,
     "metadata": {},
     "output_type": "execute_result"
    }
   ],
   "source": [
    "anroid_soup.h1"
   ]
  },
  {
   "cell_type": "code",
   "execution_count": 11,
   "id": "64114a0a-a76b-4ee1-81c5-bd008efd975f",
   "metadata": {},
   "outputs": [
    {
     "data": {
      "text/plain": [
       "[<h1 class=\"firstHeading mw-first-heading\" id=\"firstHeading\">Android version history</h1>]"
      ]
     },
     "execution_count": 11,
     "metadata": {},
     "output_type": "execute_result"
    }
   ],
   "source": [
    "anroid_soup.findAll('h1',{})"
   ]
  },
  {
   "cell_type": "code",
   "execution_count": 12,
   "id": "4d857c65-815e-49ee-9178-bd32e69d7a38",
   "metadata": {},
   "outputs": [
    {
     "name": "stdout",
     "output_type": "stream",
     "text": [
      "33\n"
     ]
    }
   ],
   "source": [
    " tables=anroid_soup.findAll('table',{'class':'wikitable'})\n",
    "print(len(tables))"
   ]
  },
  {
   "cell_type": "code",
   "execution_count": null,
   "id": "5d301b74-01fe-4bb0-9f0f-cc84d2b84eb7",
   "metadata": {},
   "outputs": [],
   "source": [
    "android_tables=tables[0]\n",
    "print(android_tables)"
   ]
  },
  {
   "cell_type": "markdown",
   "id": "1b74b892-7c27-42ed-9fdd-5a4d17380405",
   "metadata": {},
   "source": [
    "## Extracting Useful Information\n",
    "- remove undesirable tags\n",
    "- extract table  haeder and data"
   ]
  },
  {
   "cell_type": "code",
   "execution_count": 14,
   "id": "65c3c5b2-22f0-4089-9c37-f7d4e39751d8",
   "metadata": {},
   "outputs": [],
   "source": [
    "headers=android_tables.findAll('th')"
   ]
  },
  {
   "cell_type": "code",
   "execution_count": 15,
   "id": "dace7aaf-431a-4f0f-b876-8502cdff64f8",
   "metadata": {},
   "outputs": [
    {
     "name": "stdout",
     "output_type": "stream",
     "text": [
      "7\n"
     ]
    }
   ],
   "source": [
    "print(len(headers))"
   ]
  },
  {
   "cell_type": "code",
   "execution_count": 16,
   "id": "6221a343-b660-471e-874d-73b4db7e3922",
   "metadata": {},
   "outputs": [],
   "source": [
    "col_tittles=[ct.text[:-1] for ct in headers]"
   ]
  },
  {
   "cell_type": "code",
   "execution_count": 17,
   "id": "afe8300a-3df2-4ec3-be98-83cb324fc315",
   "metadata": {},
   "outputs": [
    {
     "name": "stdout",
     "output_type": "stream",
     "text": [
      "['Name', 'Internal codename[9]', 'Version number(s)', 'APIlevel', 'Initial stablerelease date', 'Latest security patch date[14]', 'Latest Google Play Services version[15](release date)']\n"
     ]
    }
   ],
   "source": [
    "print(col_tittles)"
   ]
  },
  {
   "cell_type": "code",
   "execution_count": 67,
   "id": "65b1d809-77a5-47b0-a056-d1b81ea73796",
   "metadata": {},
   "outputs": [
    {
     "name": "stdout",
     "output_type": "stream",
     "text": [
      "34\n",
      "Android 1.0\n",
      "N/A\n",
      "Old version, no longer maintained: 1.0\n",
      "1\n",
      "September 23, 2008\n",
      "N/A\n",
      "N/A\n"
     ]
    }
   ],
   "source": [
    "row_data=android_tables.findAll('tr')[1:]\n",
    "print(len(row_data))\n",
    "first_row=row_data[0].findAll('td',{})\n",
    "for d in first_row:\n",
    "    print(d.text[:-1])\n"
   ]
  },
  {
   "cell_type": "code",
   "execution_count": 68,
   "id": "4584a0d3-3e03-4f9b-b5ac-8c1db44a04ba",
   "metadata": {},
   "outputs": [],
   "source": [
    "table_rows=[]\n",
    "for row in row_data:\n",
    "    current_row=[]\n",
    "    row_data=row.findAll('td',{})\n",
    "    for idx,data in enumerate(row_data):\n",
    "        if idx==1:\n",
    "            current_row.append(data.text[:-1].split(\":\")[-1])\n",
    "        elif idx!=0 and idx!=3:\n",
    "            ct=data.text.strip(\"\\n\")\n",
    "            current_row.append(ct[:-1])\n",
    "        else:\n",
    "            ct=data.text.strip(\"\\n\")\n",
    "            current_row.append(ct)\n",
    "    table_rows.append(current_row)"
   ]
  },
  {
   "cell_type": "code",
   "execution_count": 69,
   "id": "5a91b35c-0919-43f1-9438-f447e9654118",
   "metadata": {},
   "outputs": [
    {
     "name": "stdout",
     "output_type": "stream",
     "text": [
      "[['Android 1.0', 'N/A', 'Old version, no longer maintained: 1.', '1', 'September 23, 200', 'N/', 'N/'], ['Android 1.1', 'Petit Four', 'Old version, no longer maintained: 1.', '2', 'February 9, 200'], ['Android Cupcake', 'Cupcake', 'Old version, no longer maintained: 1.', '3', 'April 27, 200'], ['Android Donut', 'Donut', 'Old version, no longer maintained: 1.', '4', 'September 15, 200'], ['Android Eclair', 'Eclair', 'Old version, no longer maintained: 2.', '5', 'October 27, 200'], ['Old version, no longer maintained: 2.0.1', '6', 'December 3, 200'], ['Old version, no longer maintained: 2.1', '7', 'January 11, 2010[16'], ['Android Froyo', 'Froyo', 'Old version, no longer maintained: 2.2 – 2.2.', '8', 'May 20, 201', '3.2.25 (October 2014'], ['Android Gingerbread', 'Gingerbread', 'Old version, no longer maintained: 2.3 – 2.3.', '9', 'December 6, 201', '10.0.84 (November 2016'], ['Old version, no longer maintained: 2.3.3 – 2.3.7', '10', 'February 9, 201'], ['Android Honeycomb', 'Honeycomb', 'Old version, no longer maintained: 3.', '11', 'February 22, 201'], ['Old version, no longer maintained: 3.1', '12', 'May 10, 201'], ['Old version, no longer maintained: 3.2 – 3.2.6', '13', 'July 15, 201'], ['Android Ice Cream Sandwich', 'Ice Cream Sandwich', 'Old version, no longer maintained: 4.0 – 4.0.', '14', 'October 18, 201', '14.8.49 (February 2019'], ['Old version, no longer maintained: 4.0.3 – 4.0.4', '15', 'December 16, 201'], ['Android Jelly Bean', 'Jelly Bean', 'Old version, no longer maintained: 4.1 – 4.1.', '16', 'July 9, 201', '21.33.56 (September 2021'], ['Old version, no longer maintained: 4.2 – 4.2.2', '17', 'November 13, 201'], ['Old version, no longer maintained: 4.3 – 4.3.1', '18', 'July 24, 201'], ['Android KitKat', 'Key Lime Pie', 'Old version, no longer maintained: 4.4 – 4.4.', '19', 'October 31, 201', 'October 201', '22.15.14 (May 2022'], ['Old version, no longer maintained: 4.4W – 4.4W.2', '20', 'June 25, 201', '?'], ['Android Lollipop', 'Lemon Meringue Pie', 'Old version, no longer maintained: 5.0 – 5.0.', '21', 'November 4, 2014[17', 'November 201'], ['Old version, no longer maintained: 5.1 – 5.1.1', '22', 'March 2, 2015[18', 'March 2018'], ['Android Marshmallow', 'Macadamia Nut Cookie', 'Old version, no longer maintained: 6.0 – 6.0.', '23', 'October 2, 2015[19', 'August 201'], ['Android Nougat', 'New York Cheesecake', 'Old version, no longer maintained: 7.', '24', 'August 22, 201', 'August 201'], ['Old version, no longer maintained: 7.1 – 7.1.2', '25', 'October 4, 201', 'October 2019'], ['Android Oreo', 'Oatmeal Cookie', 'Old version, no longer maintained: 8.', '26', 'August 21, 201', 'January 202'], ['Old version, no longer maintained: 8.1', '27', 'December 5, 201', 'October 2021'], ['Android Pie', 'Pistachio Ice Cream[20]', 'Old version, no longer maintained: ', '28', 'August 6, 201', 'January 202'], ['Android 10', 'Quince Tart[21]', 'Older version, yet still maintained: 1', '29', 'September 3, 201', 'May 202'], ['Android 11', 'Red Velvet Cake[21]', 'Older version, yet still maintained: 1', '30', 'September 8, 202'], ['Android 12', 'Snow Cone', 'Older version, yet still maintained: 1', '31', 'October 4, 202'], ['Android 12L', 'Snow Cone v2', 'Current stable version: 12.1[a][b', '32', 'March 7, 202'], ['Android 13', 'Tiramisu[23]', 'Latest preview version of a future release: 13[c', '33', 'Q3 202', ''], ['Legend:Old versionOlder version, still maintainedLatest versionLatest preview versionFuture release']]\n"
     ]
    }
   ],
   "source": [
    "print(table_rows)"
   ]
  },
  {
   "cell_type": "markdown",
   "id": "913264a7-db52-4eb1-ab30-76b74e8656f7",
   "metadata": {},
   "source": [
    "## Reading and Writing CSV files"
   ]
  },
  {
   "cell_type": "code",
   "execution_count": 70,
   "id": "21cebd5a-f917-4366-89dd-8c1e16c45bec",
   "metadata": {},
   "outputs": [],
   "source": [
    "filename='anroid_version_history.csv'\n",
    "with open(filename,'w',encoding='utf-8')as f:\n",
    "    header_string=','.join(col_tittles)\n",
    "    header_string+='\\n'\n",
    "    f.write(header_string)\n",
    "    \n",
    "    for row in table_rows[:-1]:\n",
    "        row_string=\"\"\n",
    "        for w in row:\n",
    "            w=w.replace(\",\",\"\")\n",
    "        row_string=\"\"\n",
    "        row_string=','.join(row)\n",
    "        row_string +='\\n'\n",
    "        f.write(row_string)"
   ]
  },
  {
   "cell_type": "markdown",
   "id": "cfa46c44-fbd6-4a84-87ab-05de6e2ea366",
   "metadata": {},
   "source": [
    "## Cleaning the data "
   ]
  },
  {
   "cell_type": "markdown",
   "id": "aca66b17-8c05-4490-adfc-c8f6264fa3ca",
   "metadata": {},
   "source": [
    "- Remove unwanted commas and symbols\n",
    "- undesired information"
   ]
  },
  {
   "cell_type": "code",
   "execution_count": 71,
   "id": "f8ade5e4-b29c-427a-86ba-e1f3c4f3a6b4",
   "metadata": {},
   "outputs": [],
   "source": [
    "import pandas as pd"
   ]
  },
  {
   "cell_type": "code",
   "execution_count": 73,
   "id": "d5f224db-6991-4de8-a886-a149bde68233",
   "metadata": {},
   "outputs": [],
   "source": [
    "df=pd.read_csv(\"anroid_version_history.csv\")"
   ]
  },
  {
   "cell_type": "code",
   "execution_count": 74,
   "id": "363c0cf3-84d4-4504-bacb-f7d15f64ca10",
   "metadata": {},
   "outputs": [
    {
     "data": {
      "text/html": [
       "<div>\n",
       "<style scoped>\n",
       "    .dataframe tbody tr th:only-of-type {\n",
       "        vertical-align: middle;\n",
       "    }\n",
       "\n",
       "    .dataframe tbody tr th {\n",
       "        vertical-align: top;\n",
       "    }\n",
       "\n",
       "    .dataframe thead th {\n",
       "        text-align: right;\n",
       "    }\n",
       "</style>\n",
       "<table border=\"1\" class=\"dataframe\">\n",
       "  <thead>\n",
       "    <tr style=\"text-align: right;\">\n",
       "      <th></th>\n",
       "      <th></th>\n",
       "      <th>Name</th>\n",
       "      <th>Internal codename[9]</th>\n",
       "      <th>Version number(s)</th>\n",
       "      <th>APIlevel</th>\n",
       "      <th>Initial stablerelease date</th>\n",
       "      <th>Latest security patch date[14]</th>\n",
       "      <th>Latest Google Play Services version[15](release date)</th>\n",
       "    </tr>\n",
       "  </thead>\n",
       "  <tbody>\n",
       "    <tr>\n",
       "      <th>Android 1.0</th>\n",
       "      <th>NaN</th>\n",
       "      <td>Old version</td>\n",
       "      <td>no longer maintained: 1.</td>\n",
       "      <td>1</td>\n",
       "      <td>September 23</td>\n",
       "      <td>200</td>\n",
       "      <td>N/</td>\n",
       "      <td>N/</td>\n",
       "    </tr>\n",
       "    <tr>\n",
       "      <th>Android 1.1</th>\n",
       "      <th>Petit Four</th>\n",
       "      <td>Old version</td>\n",
       "      <td>no longer maintained: 1.</td>\n",
       "      <td>2</td>\n",
       "      <td>February 9</td>\n",
       "      <td>200</td>\n",
       "      <td>NaN</td>\n",
       "      <td>NaN</td>\n",
       "    </tr>\n",
       "    <tr>\n",
       "      <th>Android Cupcake</th>\n",
       "      <th>Cupcake</th>\n",
       "      <td>Old version</td>\n",
       "      <td>no longer maintained: 1.</td>\n",
       "      <td>3</td>\n",
       "      <td>April 27</td>\n",
       "      <td>200</td>\n",
       "      <td>NaN</td>\n",
       "      <td>NaN</td>\n",
       "    </tr>\n",
       "    <tr>\n",
       "      <th>Android Donut</th>\n",
       "      <th>Donut</th>\n",
       "      <td>Old version</td>\n",
       "      <td>no longer maintained: 1.</td>\n",
       "      <td>4</td>\n",
       "      <td>September 15</td>\n",
       "      <td>200</td>\n",
       "      <td>NaN</td>\n",
       "      <td>NaN</td>\n",
       "    </tr>\n",
       "    <tr>\n",
       "      <th>Android Eclair</th>\n",
       "      <th>Eclair</th>\n",
       "      <td>Old version</td>\n",
       "      <td>no longer maintained: 2.</td>\n",
       "      <td>5</td>\n",
       "      <td>October 27</td>\n",
       "      <td>200</td>\n",
       "      <td>NaN</td>\n",
       "      <td>NaN</td>\n",
       "    </tr>\n",
       "    <tr>\n",
       "      <th rowspan=\"2\" valign=\"top\">Old version</th>\n",
       "      <th>no longer maintained: 2.0.1</th>\n",
       "      <td>6</td>\n",
       "      <td>December 3</td>\n",
       "      <td>200</td>\n",
       "      <td>NaN</td>\n",
       "      <td>NaN</td>\n",
       "      <td>NaN</td>\n",
       "      <td>NaN</td>\n",
       "    </tr>\n",
       "    <tr>\n",
       "      <th>no longer maintained: 2.1</th>\n",
       "      <td>7</td>\n",
       "      <td>January 11</td>\n",
       "      <td>2010[16</td>\n",
       "      <td>NaN</td>\n",
       "      <td>NaN</td>\n",
       "      <td>NaN</td>\n",
       "      <td>NaN</td>\n",
       "    </tr>\n",
       "    <tr>\n",
       "      <th>Android Froyo</th>\n",
       "      <th>Froyo</th>\n",
       "      <td>Old version</td>\n",
       "      <td>no longer maintained: 2.2 – 2.2.</td>\n",
       "      <td>8</td>\n",
       "      <td>May 20</td>\n",
       "      <td>201</td>\n",
       "      <td>3.2.25 (October 2014</td>\n",
       "      <td>NaN</td>\n",
       "    </tr>\n",
       "    <tr>\n",
       "      <th>Android Gingerbread</th>\n",
       "      <th>Gingerbread</th>\n",
       "      <td>Old version</td>\n",
       "      <td>no longer maintained: 2.3 – 2.3.</td>\n",
       "      <td>9</td>\n",
       "      <td>December 6</td>\n",
       "      <td>201</td>\n",
       "      <td>10.0.84 (November 2016</td>\n",
       "      <td>NaN</td>\n",
       "    </tr>\n",
       "    <tr>\n",
       "      <th>Old version</th>\n",
       "      <th>no longer maintained: 2.3.3 – 2.3.7</th>\n",
       "      <td>10</td>\n",
       "      <td>February 9</td>\n",
       "      <td>201</td>\n",
       "      <td>NaN</td>\n",
       "      <td>NaN</td>\n",
       "      <td>NaN</td>\n",
       "      <td>NaN</td>\n",
       "    </tr>\n",
       "  </tbody>\n",
       "</table>\n",
       "</div>"
      ],
      "text/plain": [
       "                                                                 Name  \\\n",
       "Android 1.0         NaN                                   Old version   \n",
       "Android 1.1         Petit Four                            Old version   \n",
       "Android Cupcake     Cupcake                               Old version   \n",
       "Android Donut       Donut                                 Old version   \n",
       "Android Eclair      Eclair                                Old version   \n",
       "Old version          no longer maintained: 2.0.1                    6   \n",
       "                     no longer maintained: 2.1                      7   \n",
       "Android Froyo       Froyo                                 Old version   \n",
       "Android Gingerbread Gingerbread                           Old version   \n",
       "Old version          no longer maintained: 2.3.3 – 2.3.7           10   \n",
       "\n",
       "                                                                       Internal codename[9]  \\\n",
       "Android 1.0         NaN                                            no longer maintained: 1.   \n",
       "Android 1.1         Petit Four                                     no longer maintained: 1.   \n",
       "Android Cupcake     Cupcake                                        no longer maintained: 1.   \n",
       "Android Donut       Donut                                          no longer maintained: 1.   \n",
       "Android Eclair      Eclair                                         no longer maintained: 2.   \n",
       "Old version          no longer maintained: 2.0.1                                 December 3   \n",
       "                     no longer maintained: 2.1                                   January 11   \n",
       "Android Froyo       Froyo                                  no longer maintained: 2.2 – 2.2.   \n",
       "Android Gingerbread Gingerbread                            no longer maintained: 2.3 – 2.3.   \n",
       "Old version          no longer maintained: 2.3.3 – 2.3.7                         February 9   \n",
       "\n",
       "                                                         Version number(s)  \\\n",
       "Android 1.0         NaN                                                  1   \n",
       "Android 1.1         Petit Four                                           2   \n",
       "Android Cupcake     Cupcake                                              3   \n",
       "Android Donut       Donut                                                4   \n",
       "Android Eclair      Eclair                                               5   \n",
       "Old version          no longer maintained: 2.0.1                       200   \n",
       "                     no longer maintained: 2.1                     2010[16   \n",
       "Android Froyo       Froyo                                                8   \n",
       "Android Gingerbread Gingerbread                                          9   \n",
       "Old version          no longer maintained: 2.3.3 – 2.3.7               201   \n",
       "\n",
       "                                                              APIlevel  \\\n",
       "Android 1.0         NaN                                   September 23   \n",
       "Android 1.1         Petit Four                              February 9   \n",
       "Android Cupcake     Cupcake                                   April 27   \n",
       "Android Donut       Donut                                 September 15   \n",
       "Android Eclair      Eclair                                  October 27   \n",
       "Old version          no longer maintained: 2.0.1                   NaN   \n",
       "                     no longer maintained: 2.1                     NaN   \n",
       "Android Froyo       Froyo                                       May 20   \n",
       "Android Gingerbread Gingerbread                             December 6   \n",
       "Old version          no longer maintained: 2.3.3 – 2.3.7           NaN   \n",
       "\n",
       "                                                         Initial stablerelease date  \\\n",
       "Android 1.0         NaN                                                         200   \n",
       "Android 1.1         Petit Four                                                  200   \n",
       "Android Cupcake     Cupcake                                                     200   \n",
       "Android Donut       Donut                                                       200   \n",
       "Android Eclair      Eclair                                                      200   \n",
       "Old version          no longer maintained: 2.0.1                                NaN   \n",
       "                     no longer maintained: 2.1                                  NaN   \n",
       "Android Froyo       Froyo                                                       201   \n",
       "Android Gingerbread Gingerbread                                                 201   \n",
       "Old version          no longer maintained: 2.3.3 – 2.3.7                        NaN   \n",
       "\n",
       "                                                         Latest security patch date[14]  \\\n",
       "Android 1.0         NaN                                                              N/   \n",
       "Android 1.1         Petit Four                                                      NaN   \n",
       "Android Cupcake     Cupcake                                                         NaN   \n",
       "Android Donut       Donut                                                           NaN   \n",
       "Android Eclair      Eclair                                                          NaN   \n",
       "Old version          no longer maintained: 2.0.1                                    NaN   \n",
       "                     no longer maintained: 2.1                                      NaN   \n",
       "Android Froyo       Froyo                                          3.2.25 (October 2014   \n",
       "Android Gingerbread Gingerbread                                  10.0.84 (November 2016   \n",
       "Old version          no longer maintained: 2.3.3 – 2.3.7                            NaN   \n",
       "\n",
       "                                                         Latest Google Play Services version[15](release date)  \n",
       "Android 1.0         NaN                                                                                  N/     \n",
       "Android 1.1         Petit Four                                                                          NaN     \n",
       "Android Cupcake     Cupcake                                                                             NaN     \n",
       "Android Donut       Donut                                                                               NaN     \n",
       "Android Eclair      Eclair                                                                              NaN     \n",
       "Old version          no longer maintained: 2.0.1                                                        NaN     \n",
       "                     no longer maintained: 2.1                                                          NaN     \n",
       "Android Froyo       Froyo                                                                               NaN     \n",
       "Android Gingerbread Gingerbread                                                                         NaN     \n",
       "Old version          no longer maintained: 2.3.3 – 2.3.7                                                NaN     "
      ]
     },
     "execution_count": 74,
     "metadata": {},
     "output_type": "execute_result"
    }
   ],
   "source": [
    "df.head(n=10)"
   ]
  },
  {
   "cell_type": "markdown",
   "id": "15f67bc0-5b40-4a6b-ba26-e0bc9fa57c69",
   "metadata": {},
   "source": [
    "## Loading Local Files"
   ]
  },
  {
   "cell_type": "code",
   "execution_count": 75,
   "id": "08546038-ec8b-4794-913a-4f48b7bd42c4",
   "metadata": {},
   "outputs": [
    {
     "ename": "FileNotFoundError",
     "evalue": "[Errno 2] No such file or directory: 'android.html'",
     "output_type": "error",
     "traceback": [
      "\u001b[1;31m---------------------------------------------------------------------------\u001b[0m",
      "\u001b[1;31mFileNotFoundError\u001b[0m                         Traceback (most recent call last)",
      "\u001b[1;32m~\\AppData\\Local\\Temp/ipykernel_18352/1792216578.py\u001b[0m in \u001b[0;36m<module>\u001b[1;34m\u001b[0m\n\u001b[1;32m----> 1\u001b[1;33m \u001b[1;32mwith\u001b[0m \u001b[0mopen\u001b[0m\u001b[1;33m(\u001b[0m\u001b[1;34m'android.html'\u001b[0m\u001b[1;33m,\u001b[0m\u001b[0mencoding\u001b[0m\u001b[1;33m=\u001b[0m\u001b[1;34m'utf-8'\u001b[0m\u001b[1;33m)\u001b[0m \u001b[1;32mas\u001b[0m \u001b[0mf\u001b[0m\u001b[1;33m:\u001b[0m\u001b[1;33m\u001b[0m\u001b[1;33m\u001b[0m\u001b[0m\n\u001b[0m\u001b[0;32m      2\u001b[0m     \u001b[0mpage_soup\u001b[0m\u001b[1;33m=\u001b[0m\u001b[0msoup\u001b[0m\u001b[1;33m(\u001b[0m\u001b[0mf\u001b[0m\u001b[1;33m,\u001b[0m\u001b[1;34m'html parser'\u001b[0m\u001b[1;33m)\u001b[0m\u001b[1;33m\u001b[0m\u001b[1;33m\u001b[0m\u001b[0m\n",
      "\u001b[1;31mFileNotFoundError\u001b[0m: [Errno 2] No such file or directory: 'android.html'"
     ]
    }
   ],
   "source": [
    "with open('android.html',encoding='utf-8') as f:\n",
    "    page_soup=soup(f,'html parser')\n"
   ]
  },
  {
   "cell_type": "code",
   "execution_count": null,
   "id": "7b9b326a-6ff0-47e7-a705-795c7190996a",
   "metadata": {},
   "outputs": [],
   "source": [
    "page_Soup.findAll('h1')"
   ]
  },
  {
   "cell_type": "markdown",
   "id": "d89b1773-c84f-4a13-8211-a04acb78854e",
   "metadata": {},
   "source": [
    "## Web Scraping of Image"
   ]
  },
  {
   "cell_type": "code",
   "execution_count": 1,
   "id": "4cf8209d-ba84-46b2-baba-069ca281e516",
   "metadata": {},
   "outputs": [],
   "source": [
    "import bs4\n",
    "import requests"
   ]
  },
  {
   "cell_type": "code",
   "execution_count": 2,
   "id": "e2a54eb1-824e-403d-bf79-083d5ac89be9",
   "metadata": {},
   "outputs": [],
   "source": [
    "url=\"https://www.passiton.com/inspirational-quotes\""
   ]
  },
  {
   "cell_type": "code",
   "execution_count": 3,
   "id": "3cfb48ea-fe56-4ab7-b7a2-e6bc5626ad35",
   "metadata": {},
   "outputs": [],
   "source": [
    "response=requests.get(url)"
   ]
  },
  {
   "cell_type": "code",
   "execution_count": null,
   "id": "b43f05df-2f95-422a-a590-cfb2dcee2c8d",
   "metadata": {},
   "outputs": [],
   "source": [
    "response.content"
   ]
  },
  {
   "cell_type": "code",
   "execution_count": 5,
   "id": "1424912e-4ea7-40c3-88ed-b1cd8d6d7e4c",
   "metadata": {},
   "outputs": [],
   "source": [
    "#HTML parser\n",
    "soup=bs4.BeautifulSoup(response.content)"
   ]
  },
  {
   "cell_type": "code",
   "execution_count": 16,
   "id": "91d7b4c0-280c-4b07-b1ee-21e3329245af",
   "metadata": {},
   "outputs": [],
   "source": [
    "article_element=soup.findAll('footer class')"
   ]
  },
  {
   "cell_type": "code",
   "execution_count": 17,
   "id": "ba57ef78-e90e-4990-94ce-d393045ab2b6",
   "metadata": {},
   "outputs": [
    {
     "ename": "IndexError",
     "evalue": "list index out of range",
     "output_type": "error",
     "traceback": [
      "\u001b[1;31m---------------------------------------------------------------------------\u001b[0m",
      "\u001b[1;31mIndexError\u001b[0m                                Traceback (most recent call last)",
      "\u001b[1;32m~\\AppData\\Local\\Temp/ipykernel_6992/922785579.py\u001b[0m in \u001b[0;36m<module>\u001b[1;34m\u001b[0m\n\u001b[1;32m----> 1\u001b[1;33m \u001b[0marticle_element\u001b[0m\u001b[1;33m[\u001b[0m\u001b[1;36m0\u001b[0m\u001b[1;33m]\u001b[0m\u001b[1;33m\u001b[0m\u001b[1;33m\u001b[0m\u001b[0m\n\u001b[0m",
      "\u001b[1;31mIndexError\u001b[0m: list index out of range"
     ]
    }
   ],
   "source": [
    "article_element[0]"
   ]
  },
  {
   "cell_type": "code",
   "execution_count": null,
   "id": "90db9566-e805-4176-9373-e507066ddb06",
   "metadata": {},
   "outputs": [],
   "source": []
  }
 ],
 "metadata": {
  "kernelspec": {
   "display_name": "Python 3 (ipykernel)",
   "language": "python",
   "name": "python3"
  },
  "language_info": {
   "codemirror_mode": {
    "name": "ipython",
    "version": 3
   },
   "file_extension": ".py",
   "mimetype": "text/x-python",
   "name": "python",
   "nbconvert_exporter": "python",
   "pygments_lexer": "ipython3",
   "version": "3.9.7"
  }
 },
 "nbformat": 4,
 "nbformat_minor": 5
}
