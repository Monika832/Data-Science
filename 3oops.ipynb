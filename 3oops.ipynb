{
 "cells": [
  {
   "cell_type": "markdown",
   "id": "e96d97bd-0035-4a11-acad-0f9f9b83f96e",
   "metadata": {},
   "source": [
    "## OOPS\n",
    "Four pillar of oops that stands on <br>\n",
    "1.Encapsulation-to combine all the attributes of common class <br>\n",
    "2.Abstraction-it dictate you may not need to know actual implementation  of method all u need is to know signature of method. Eg-paper diya     teacher ne evaluate kiya and hume nhi pata kaise kiya.<br>\n",
    "3.Inheritance-it helps to abstract out common attributes,common functionality,common implementation further more <br> \n",
    "4.Polymorphism-(poly-many,mor-forms)it states that given objects can exixt in multiple form"
   ]
  },
  {
   "cell_type": "markdown",
   "id": "bf39d64d-8b08-4a43-9de7-aa21a46dd487",
   "metadata": {},
   "source": [
    "In python everything is object whether it is string,int,etc\n"
   ]
  },
  {
   "cell_type": "code",
   "execution_count": 2,
   "id": "6cedc247-f7ac-48eb-a4fe-e8c47e38d96b",
   "metadata": {},
   "outputs": [
    {
     "name": "stdout",
     "output_type": "stream",
     "text": [
      "True\n"
     ]
    }
   ],
   "source": [
    "a=\"jatin\"\n",
    "print(isinstance(a,object))"
   ]
  },
  {
   "cell_type": "code",
   "execution_count": 3,
   "id": "9e7efa5c-55c1-49c5-81ed-3961f225e3ca",
   "metadata": {},
   "outputs": [
    {
     "name": "stdout",
     "output_type": "stream",
     "text": [
      "True\n"
     ]
    }
   ],
   "source": [
    "a=print\n",
    "print(isinstance(a,object))"
   ]
  },
  {
   "cell_type": "code",
   "execution_count": 4,
   "id": "8b041648-8030-4ca1-85ca-ed8629464c3c",
   "metadata": {},
   "outputs": [],
   "source": [
    "class A:\n",
    "    pass    #pass is just an empyty body"
   ]
  },
  {
   "cell_type": "code",
   "execution_count": 5,
   "id": "34680dcd-3092-4ef3-8615-e8c7923bf792",
   "metadata": {},
   "outputs": [
    {
     "name": "stdout",
     "output_type": "stream",
     "text": [
      "True\n"
     ]
    }
   ],
   "source": [
    "a=A\n",
    "print(isinstance(a,object))"
   ]
  },
  {
   "cell_type": "code",
   "execution_count": 7,
   "id": "59095085-64e0-4794-b415-757c81773f22",
   "metadata": {},
   "outputs": [
    {
     "name": "stdout",
     "output_type": "stream",
     "text": [
      "<__main__.Person object at 0x000002148580AB80>\n"
     ]
    }
   ],
   "source": [
    "#object in python has flag that is callable or not.For eg-func,class is callable but int is not\n",
    "\n",
    "class Person:\n",
    "    pass\n",
    "\n",
    "p=Person()\n",
    "print(p)"
   ]
  },
  {
   "cell_type": "code",
   "execution_count": 11,
   "id": "f7571a79-05b6-4ef1-8f82-fe6d64773017",
   "metadata": {},
   "outputs": [
    {
     "name": "stdout",
     "output_type": "stream",
     "text": [
      "Hello,my name is monika\n",
      "Hello,my name is monika\n"
     ]
    }
   ],
   "source": [
    "class Person:\n",
    "    name=\"jatin\"\n",
    "    def say_hi(self):\n",
    "        print(\"Hello,my name is monika\")\n",
    "        \n",
    "p=Person()\n",
    "p.say_hi() #either this\n",
    "\n",
    "Person.say_hi(p) # or this"
   ]
  },
  {
   "cell_type": "markdown",
   "id": "bdd5fdab-8abe-4483-816d-450dce4b6503",
   "metadata": {},
   "source": [
    "### The init method"
   ]
  },
  {
   "cell_type": "code",
   "execution_count": 12,
   "id": "d92a3cde-d1a8-476c-9110-ba7158d100ca",
   "metadata": {},
   "outputs": [
    {
     "name": "stdout",
     "output_type": "stream",
     "text": [
      "Hello, my name is abhishek\n",
      "Hello, my name is abhishek\n"
     ]
    }
   ],
   "source": [
    "class Person:\n",
    "    #not a constructor\n",
    "    def __init__(self,name):\n",
    "        self.name=name\n",
    "    def say_hi(self):\n",
    "        print(\"Hello, my name is\",self.name)\n",
    "    \n",
    "p=Person(\"abhishek\")\n",
    "p.say_hi()\n",
    "\n",
    "Person.say_hi(p)"
   ]
  },
  {
   "cell_type": "markdown",
   "id": "7ada6e76-4e06-4410-8ac1-064138466e81",
   "metadata": {},
   "source": [
    "## Dunders and magic method"
   ]
  },
  {
   "cell_type": "markdown",
   "id": "be24ba97-d1a2-4da6-83b1-dda3a13bd003",
   "metadata": {},
   "source": [
    "For each of events we have dunders and Every dunder strt with double underscore.Eg-init <br>\n",
    "\\_\\_int\\_\\_(self) this method is called whenever object is created ,br>\n",
    "\\_\\_de\\_\\_(self) -when u delete a object <br>\n",
    "\\_\\_add\\_\\_(self,other)-when u add a object with other object <br>\n",
    "\\_\\_str\\_\\_(self)-convert current object itn string <br>"
   ]
  },
  {
   "cell_type": "code",
   "execution_count": 19,
   "id": "0fc66645-471b-4458-b947-3f905bfb5f91",
   "metadata": {},
   "outputs": [],
   "source": [
    "#in python we dont have operator overloading\n",
    "class Car:\n",
    "    def __init__(self,model,mileage):\n",
    "        self.model=model\n",
    "        self.mileage=mileage\n",
    "        \n",
    "    def _str_(self):\n",
    "        return \"{} {}\".format(self.model,self.mileage)\n",
    "    \n",
    "    def __repr__(self):\n",
    "        return \"{}\".format(self.model)\n",
    "    \n",
    "    def __eq__(self,other):\n",
    "        return self.mileage==other.mileage\n",
    "    \n",
    "    def __add__(self,other):\n",
    "        return self.mileage+other.mileage"
   ]
  },
  {
   "cell_type": "code",
   "execution_count": 20,
   "id": "d2b0ac5f-5295-49ec-ba67-a0f8c118e17d",
   "metadata": {},
   "outputs": [],
   "source": [
    "c1=Car('a',2)\n",
    "c2=Car('b',2)"
   ]
  },
  {
   "cell_type": "code",
   "execution_count": 21,
   "id": "df311ddb-db73-4324-9377-abb0535079bc",
   "metadata": {},
   "outputs": [
    {
     "data": {
      "text/plain": [
       "4"
      ]
     },
     "execution_count": 21,
     "metadata": {},
     "output_type": "execute_result"
    }
   ],
   "source": [
    "c1+c2"
   ]
  },
  {
   "cell_type": "code",
   "execution_count": 22,
   "id": "d0437c63-6973-4e26-827a-24f62345bfca",
   "metadata": {},
   "outputs": [
    {
     "data": {
      "text/plain": [
       "True"
      ]
     },
     "execution_count": 22,
     "metadata": {},
     "output_type": "execute_result"
    }
   ],
   "source": [
    "c1==c2"
   ]
  },
  {
   "cell_type": "markdown",
   "id": "5f9fcb6d-a107-4695-a680-7352c2e476da",
   "metadata": {},
   "source": [
    "#Inheritence- making a class and another class wants same feature as previous one so we inherit baseclass and use in another class \n",
    "Overloading which is not supported in python is having many functions with the same name and different parameters in a single code.<br>\n",
    "Overidding -one method replaces or extend the other method  "
   ]
  },
  {
   "cell_type": "markdown",
   "id": "c2386f4f-398e-4815-a256-e67c8adee1af",
   "metadata": {},
   "source": [
    "## Method Resolution"
   ]
  },
  {
   "cell_type": "markdown",
   "id": "a2c69edf-e812-4175-b509-a792899a6092",
   "metadata": {},
   "source": [
    "when we have a diaomind types inheritence structure then we have ambiguity which value  is taken, so for resolving this we have C3 linearization in python  <br>\n",
    "C3 Linearization is same as DFS and only traversed a node if all child node is already traversed."
   ]
  },
  {
   "cell_type": "code",
   "execution_count": 23,
   "id": "c8fd6941-163e-4ecf-a9d8-363c828bcbf5",
   "metadata": {},
   "outputs": [],
   "source": [
    "class A:\n",
    "    x=10\n",
    "class B(A):\n",
    "    pass\n",
    "class C(A):\n",
    "    x=5\n",
    "class D(C):\n",
    "    pass\n",
    "class E(B,D):\n",
    "    pass"
   ]
  },
  {
   "cell_type": "code",
   "execution_count": 24,
   "id": "cde30eaf-87fa-4a32-b763-7f48df2b914b",
   "metadata": {},
   "outputs": [
    {
     "data": {
      "text/plain": [
       "5"
      ]
     },
     "execution_count": 24,
     "metadata": {},
     "output_type": "execute_result"
    }
   ],
   "source": [
    "E.x"
   ]
  },
  {
   "cell_type": "code",
   "execution_count": 25,
   "id": "852be823-a80b-4b25-ac3d-9fa38797e646",
   "metadata": {},
   "outputs": [
    {
     "data": {
      "text/plain": [
       "(__main__.E, __main__.B, __main__.D, __main__.C, __main__.A, object)"
      ]
     },
     "execution_count": 25,
     "metadata": {},
     "output_type": "execute_result"
    }
   ],
   "source": [
    "E.__mro__"
   ]
  },
  {
   "cell_type": "markdown",
   "id": "205bd6cf-118a-45b6-b16c-9c0ba7c34624",
   "metadata": {},
   "source": [
    "## Modules in python\n",
    "1st way- <br>\n",
    "import calculator <br>\n",
    "print(calculator.add(1,2)) <br>\n",
    "\n",
    "2nd way-<br>\n",
    "from calculator import add   <br>\n",
    "print(add(1,2)    <br>\n",
    "\n",
    "now for importing every function of file  we use <br>\n",
    "from calculator import *\n",
    "\n",
    "\n",
    "for resolving the issue that imported filename is same as function name written by user in main file, we import the file as certain name <br>\n",
    "\n",
    "import calculator as cal\n"
   ]
  },
  {
   "cell_type": "code",
   "execution_count": 26,
   "id": "4c25b88c-0d4f-4bf7-8e89-724fe14bfbd1",
   "metadata": {},
   "outputs": [],
   "source": [
    "# Packages is collection of modules that perform certain task"
   ]
  },
  {
   "cell_type": "markdown",
   "id": "a575b315-e2a3-4ef9-9731-10c35c7b1ed4",
   "metadata": {},
   "source": [
    "## Packages\n",
    "\n",
    "Make a folder then in this make different file of python and to specidy that this filder is packages we specify \\_\\_init\\_\\_.py (it intialise package ) <br>\n",
    "\n",
    "import math #math is a package <br>\n",
    "print(math.simple)  #simple is module <br>\n",
    "\n",
    "from amth import { simple,complex) \n",
    "print(simple.add(1,2))\n"
   ]
  }
 ],
 "metadata": {
  "kernelspec": {
   "display_name": "Python 3 (ipykernel)",
   "language": "python",
   "name": "python3"
  },
  "language_info": {
   "codemirror_mode": {
    "name": "ipython",
    "version": 3
   },
   "file_extension": ".py",
   "mimetype": "text/x-python",
   "name": "python",
   "nbconvert_exporter": "python",
   "pygments_lexer": "ipython3",
   "version": "3.9.7"
  }
 },
 "nbformat": 4,
 "nbformat_minor": 5
}
