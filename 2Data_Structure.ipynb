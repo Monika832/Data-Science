{
 "cells": [
  {
   "cell_type": "markdown",
   "id": "925fc42e-be8b-4f17-bf7a-504d1cd54e23",
   "metadata": {},
   "source": [
    "# Data Sturcture \n",
    "Ds is a specialised format for orgainising, processing, retrieving and storing data\n",
    "Ds include four basic operation that is CRUD(Create,Read,Update,Delete)\n",
    "Primary Ds-Int,float,bool,strings,Complex\n",
    "Derived Ds-Those Ds which depends or derived from primary Ds id Derived Ds that is List,Tupple,Dictionary,Set"
   ]
  },
  {
   "cell_type": "markdown",
   "id": "72bc3ad1-7111-46f9-b2ad-a9f22bfa9d84",
   "metadata": {},
   "source": [
    "Mutauble Ds-List,Dic,Set"
   ]
  },
  {
   "cell_type": "markdown",
   "id": "d7795a35-278f-404e-938d-ac4a6c952337",
   "metadata": {},
   "source": [
    "# #Strings \n",
    "(Immutable DS-Immutables are the objects whose state cannot be changed once the object is created.)\n",
    "Python only deals with strings not char DS\n",
    "if it is a char it means it is a string of length of 1"
   ]
  },
  {
   "cell_type": "code",
   "execution_count": 1,
   "id": "c9cf2e1a-9d53-4350-80a1-d32f231d6072",
   "metadata": {},
   "outputs": [],
   "source": [
    "a='mu name is'"
   ]
  },
  {
   "cell_type": "code",
   "execution_count": 2,
   "id": "02bc0c5a-1c6e-4579-a069-c7bc89c75d9d",
   "metadata": {},
   "outputs": [
    {
     "name": "stdout",
     "output_type": "stream",
     "text": [
      "mu name is\n"
     ]
    }
   ],
   "source": [
    "print(a)"
   ]
  },
  {
   "cell_type": "code",
   "execution_count": 3,
   "id": "700c232d-09f0-4ebf-a0e6-00bd971e35ea",
   "metadata": {},
   "outputs": [],
   "source": [
    "b='''this is multiline\n",
    "string\n",
    "k'''"
   ]
  },
  {
   "cell_type": "code",
   "execution_count": 4,
   "id": "87420f78-f1f2-45d0-a4b9-6e49df8dd710",
   "metadata": {},
   "outputs": [
    {
     "name": "stdout",
     "output_type": "stream",
     "text": [
      "this is multiline\n",
      "string\n",
      "k\n"
     ]
    }
   ],
   "source": [
    "print(b)"
   ]
  },
  {
   "cell_type": "code",
   "execution_count": 5,
   "id": "fc7eeca8-cd99-4c3e-9ff3-acc21f84a18f",
   "metadata": {},
   "outputs": [
    {
     "data": {
      "text/plain": [
       "26"
      ]
     },
     "execution_count": 5,
     "metadata": {},
     "output_type": "execute_result"
    }
   ],
   "source": [
    "len(b)"
   ]
  },
  {
   "cell_type": "code",
   "execution_count": 6,
   "id": "7c9538e7-fa5e-40e4-b84a-5522104b367b",
   "metadata": {},
   "outputs": [
    {
     "data": {
      "text/plain": [
       "100"
      ]
     },
     "execution_count": 6,
     "metadata": {},
     "output_type": "execute_result"
    }
   ],
   "source": [
    "#function of string\n",
    "ord('d') # gives the ASCI value pf given character"
   ]
  },
  {
   "cell_type": "code",
   "execution_count": 7,
   "id": "d5650d9f-2810-4a37-ac49-76eaf399b6a2",
   "metadata": {},
   "outputs": [
    {
     "data": {
      "text/plain": [
       "'d'"
      ]
     },
     "execution_count": 7,
     "metadata": {},
     "output_type": "execute_result"
    }
   ],
   "source": [
    "chr(100) # gives the  charcter of given ASCI value"
   ]
  },
  {
   "cell_type": "markdown",
   "id": "a4c99c23-a5b7-4b8c-9f01-7d5cf85ab25e",
   "metadata": {},
   "source": [
    "## String Operation \n",
    "formated strings\n",
    "strip,\n",
    "split,\n",
    "replace, \n",
    "count, "
   ]
  },
  {
   "cell_type": "markdown",
   "id": "d730813e-36ae-40b9-a241-80c546b7ebff",
   "metadata": {},
   "source": [
    "## Formating strings\n",
    "in python is basically infusing things on strings dynamically.It has four ways:"
   ]
  },
  {
   "cell_type": "code",
   "execution_count": 8,
   "id": "9388c2d9-58aa-48ac-888f-02d5cdcf2c4a",
   "metadata": {},
   "outputs": [],
   "source": [
    "name=\"Monika\"\n",
    "age=21\n",
    "year=3"
   ]
  },
  {
   "cell_type": "code",
   "execution_count": 9,
   "id": "66694d6b-2bbe-4a47-b8f0-336247555f30",
   "metadata": {},
   "outputs": [
    {
     "name": "stdout",
     "output_type": "stream",
     "text": [
      "My name is Monika.I m 21 year old. i m in 3 year\n"
     ]
    }
   ],
   "source": [
    "#1st way -using concatenation \n",
    "print(\"My name is \"+name+\".I m \"+str(age)+\" year old. i m in \"+str(year)+\" year\")"
   ]
  },
  {
   "cell_type": "code",
   "execution_count": 10,
   "id": "433e3f04-77ee-467c-87d6-54c4bdd6afb6",
   "metadata": {},
   "outputs": [
    {
     "name": "stdout",
     "output_type": "stream",
     "text": [
      "My name is Monika. I m 21 year old. I m in 3 year\n"
     ]
    }
   ],
   "source": [
    "#2nd way-using format()\n",
    "print(\"My name is {}. I m {} year old. I m in {} year\".format(name,age,year))"
   ]
  },
  {
   "cell_type": "code",
   "execution_count": 11,
   "id": "5929ce51-1c18-4005-91f4-fbf8b1f94ec2",
   "metadata": {},
   "outputs": [
    {
     "name": "stdout",
     "output_type": "stream",
     "text": [
      "My name is Monika. I m 21 year old. I m in 3 year\n"
     ]
    }
   ],
   "source": [
    "#3rd way-using % method\n",
    "print(\"My name is %s. I m %d year old. I m in %d year\"%(name,age,year))"
   ]
  },
  {
   "cell_type": "code",
   "execution_count": 12,
   "id": "f08d2c07-a356-40d9-b7c1-a0e78dbc8b1c",
   "metadata": {},
   "outputs": [
    {
     "name": "stdout",
     "output_type": "stream",
     "text": [
      "My name is Monika.I m 21 year old.I m in 3.\n"
     ]
    }
   ],
   "source": [
    "#4th way- f-string\n",
    "print(f\"My name is {name}.I m {age} year old.I m in {year}.\")\n"
   ]
  },
  {
   "cell_type": "markdown",
   "id": "66a43dc7-bdf3-4ffe-85bc-d53396f7054c",
   "metadata": {},
   "source": [
    "## Strip\n",
    "it remove the white space from the string"
   ]
  },
  {
   "cell_type": "code",
   "execution_count": 13,
   "id": "60e2a12a-5e12-416c-91c7-767a2118c957",
   "metadata": {},
   "outputs": [],
   "source": [
    "str=\"    Good Morning    \""
   ]
  },
  {
   "cell_type": "code",
   "execution_count": 14,
   "id": "5a9f0a1a-7377-4465-bef0-518e97e6a494",
   "metadata": {},
   "outputs": [
    {
     "data": {
      "text/plain": [
       "'    Good Morning'"
      ]
     },
     "execution_count": 14,
     "metadata": {},
     "output_type": "execute_result"
    }
   ],
   "source": [
    "str.rstrip()    #it will remove all trhe extra spaces from right"
   ]
  },
  {
   "cell_type": "code",
   "execution_count": 15,
   "id": "d92d2df6-cd90-462a-a7b8-151ce2bf0956",
   "metadata": {},
   "outputs": [
    {
     "data": {
      "text/plain": [
       "'Good Morning    '"
      ]
     },
     "execution_count": 15,
     "metadata": {},
     "output_type": "execute_result"
    }
   ],
   "source": [
    "str.lstrip()    #it will remove all trhe extra spaces from left"
   ]
  },
  {
   "cell_type": "code",
   "execution_count": 16,
   "id": "d963891d-0845-48ec-bf6c-3deadf551a76",
   "metadata": {},
   "outputs": [
    {
     "data": {
      "text/plain": [
       "'Good Morning'"
      ]
     },
     "execution_count": 16,
     "metadata": {},
     "output_type": "execute_result"
    }
   ],
   "source": [
    "str.strip()    #it will remove all trhe extra spaces from bith side"
   ]
  },
  {
   "cell_type": "code",
   "execution_count": 17,
   "id": "d9c63e47-262a-49cb-974f-92d3a1166cad",
   "metadata": {},
   "outputs": [
    {
     "name": "stdin",
     "output_type": "stream",
     "text": [
      "Enter yes or no     yes    \n"
     ]
    }
   ],
   "source": [
    "#Usecase\n",
    "response=input(\"Enter yes or no\")"
   ]
  },
  {
   "cell_type": "code",
   "execution_count": 18,
   "id": "b42cf5ec-4d39-411b-a023-1f3b1dffbab6",
   "metadata": {},
   "outputs": [
    {
     "data": {
      "text/plain": [
       "False"
      ]
     },
     "execution_count": 18,
     "metadata": {},
     "output_type": "execute_result"
    }
   ],
   "source": [
    "response==\"yes\""
   ]
  },
  {
   "cell_type": "code",
   "execution_count": 19,
   "id": "4aa69250-7219-4756-a327-9d7ae8f18c70",
   "metadata": {},
   "outputs": [
    {
     "data": {
      "text/plain": [
       "True"
      ]
     },
     "execution_count": 19,
     "metadata": {},
     "output_type": "execute_result"
    }
   ],
   "source": [
    "response.strip()==\"yes\""
   ]
  },
  {
   "cell_type": "markdown",
   "id": "16d0cd7a-9751-4047-b65d-9e72474bd8e6",
   "metadata": {},
   "source": [
    "# Split\n",
    "it split the string amd create list from string"
   ]
  },
  {
   "cell_type": "code",
   "execution_count": 20,
   "id": "36459338-23a8-42ab-a97d-e34c35b97a6f",
   "metadata": {},
   "outputs": [],
   "source": [
    "st=\"My name is monika\""
   ]
  },
  {
   "cell_type": "code",
   "execution_count": 21,
   "id": "39469a15-d92b-48b4-bb0f-7843299c954f",
   "metadata": {},
   "outputs": [
    {
     "data": {
      "text/plain": [
       "['My', 'name', 'is', 'monika']"
      ]
     },
     "execution_count": 21,
     "metadata": {},
     "output_type": "execute_result"
    }
   ],
   "source": [
    "st.split(\" \")"
   ]
  },
  {
   "cell_type": "markdown",
   "id": "af5be6dc-269a-42b4-9737-1aab7cfdeed7",
   "metadata": {},
   "source": [
    "## Replace \n",
    "Replace a string with other string that u provide"
   ]
  },
  {
   "cell_type": "code",
   "execution_count": 22,
   "id": "26fa61a7-c45c-4a0f-b423-7b776e91d746",
   "metadata": {},
   "outputs": [],
   "source": [
    "str=\"aaaaaaanmmmnnnn\""
   ]
  },
  {
   "cell_type": "code",
   "execution_count": 23,
   "id": "5a12a72f-f4ad-40f0-9a7d-85a343135a30",
   "metadata": {},
   "outputs": [
    {
     "data": {
      "text/plain": [
       "'bbbbbbbnmmmnnnn'"
      ]
     },
     "execution_count": 23,
     "metadata": {},
     "output_type": "execute_result"
    }
   ],
   "source": [
    "str.replace(\"a\",\"b\")"
   ]
  },
  {
   "cell_type": "code",
   "execution_count": 24,
   "id": "9c68698d-0346-4904-93ad-e3adcba08598",
   "metadata": {},
   "outputs": [],
   "source": [
    "l=\"My name is Monika\""
   ]
  },
  {
   "cell_type": "code",
   "execution_count": 25,
   "id": "388021c8-e39d-4c24-bee3-fbce3bc93718",
   "metadata": {},
   "outputs": [
    {
     "data": {
      "text/plain": [
       "'My name is Jatin'"
      ]
     },
     "execution_count": 25,
     "metadata": {},
     "output_type": "execute_result"
    }
   ],
   "source": [
    "l.replace(\"Monika\",\"Jatin\")"
   ]
  },
  {
   "cell_type": "markdown",
   "id": "eaae369a-7594-40bf-b97e-3cc09cfab88f",
   "metadata": {},
   "source": [
    "## Count"
   ]
  },
  {
   "cell_type": "code",
   "execution_count": 26,
   "id": "78f5aaf0-5733-436f-a547-bb0973b955cc",
   "metadata": {},
   "outputs": [
    {
     "data": {
      "text/plain": [
       "0"
      ]
     },
     "execution_count": 26,
     "metadata": {},
     "output_type": "execute_result"
    }
   ],
   "source": [
    "str.count(\"is\")"
   ]
  },
  {
   "cell_type": "code",
   "execution_count": 27,
   "id": "c91a5995-6d1d-4ccd-b1ed-110ac440ec32",
   "metadata": {},
   "outputs": [
    {
     "data": {
      "text/plain": [
       "3"
      ]
     },
     "execution_count": 27,
     "metadata": {},
     "output_type": "execute_result"
    }
   ],
   "source": [
    "str.count(\"m\")"
   ]
  },
  {
   "cell_type": "code",
   "execution_count": 28,
   "id": "708cfdff-18e7-4fae-8bc3-81d45b9fcbda",
   "metadata": {},
   "outputs": [
    {
     "data": {
      "text/plain": [
       "3"
      ]
     },
     "execution_count": 28,
     "metadata": {},
     "output_type": "execute_result"
    }
   ],
   "source": [
    "str.count(\"aa\")"
   ]
  },
  {
   "cell_type": "markdown",
   "id": "3bef5a82-da2d-47dc-8b15-9cd22160c0ed",
   "metadata": {
    "tags": []
   },
   "source": [
    "## Lists\n",
    "-ordered<br>\n",
    "-mutable<br>\n",
    "-accesed using index<br>\n",
    "-heterogenous but we keep as homogenous <br>"
   ]
  },
  {
   "cell_type": "code",
   "execution_count": 29,
   "id": "5da1beea-5fde-4471-beed-9cdff8490f19",
   "metadata": {},
   "outputs": [],
   "source": [
    "a=[1,5,2,8]\n"
   ]
  },
  {
   "cell_type": "code",
   "execution_count": 30,
   "id": "dd9bdfa7-b6dc-47c8-8ab3-c45497bdc33e",
   "metadata": {},
   "outputs": [
    {
     "data": {
      "text/plain": [
       "[1, 5, 2, 8]"
      ]
     },
     "execution_count": 30,
     "metadata": {},
     "output_type": "execute_result"
    }
   ],
   "source": [
    "a"
   ]
  },
  {
   "cell_type": "code",
   "execution_count": 31,
   "id": "2c02abe4-3523-4923-9daa-df6c915aabea",
   "metadata": {},
   "outputs": [
    {
     "data": {
      "text/plain": [
       "8"
      ]
     },
     "execution_count": 31,
     "metadata": {},
     "output_type": "execute_result"
    }
   ],
   "source": [
    "a[3]"
   ]
  },
  {
   "cell_type": "code",
   "execution_count": 32,
   "id": "1b73352b-673a-4f26-9e3c-dc999149306c",
   "metadata": {},
   "outputs": [],
   "source": [
    "b=['jatin',2,print,1.5]"
   ]
  },
  {
   "cell_type": "code",
   "execution_count": 33,
   "id": "b382d280-16b5-4cd2-ba3a-4d0fe6320f40",
   "metadata": {},
   "outputs": [
    {
     "data": {
      "text/plain": [
       "<function print>"
      ]
     },
     "execution_count": 33,
     "metadata": {},
     "output_type": "execute_result"
    }
   ],
   "source": [
    "b[2]"
   ]
  },
  {
   "cell_type": "code",
   "execution_count": 34,
   "id": "28642440-1f35-4a0b-bb58-48e4a505c9fe",
   "metadata": {},
   "outputs": [
    {
     "name": "stdout",
     "output_type": "stream",
     "text": [
      "we can print by calling the function \n"
     ]
    }
   ],
   "source": [
    "b[2](\"we can print by calling the function \")"
   ]
  },
  {
   "cell_type": "markdown",
   "id": "35e62fac-4222-438a-a955-cf655b2c6d28",
   "metadata": {},
   "source": [
    "## Operations on list "
   ]
  },
  {
   "cell_type": "code",
   "execution_count": 35,
   "id": "5d2076f2-d73e-4b82-961a-09a4797d76c6",
   "metadata": {},
   "outputs": [],
   "source": [
    "a=[4,5,8,9]"
   ]
  },
  {
   "cell_type": "code",
   "execution_count": 36,
   "id": "aaac2045-9cba-440d-931b-6d2c9fe69334",
   "metadata": {},
   "outputs": [
    {
     "data": {
      "text/plain": [
       "4"
      ]
     },
     "execution_count": 36,
     "metadata": {},
     "output_type": "execute_result"
    }
   ],
   "source": [
    "len(a)"
   ]
  },
  {
   "cell_type": "code",
   "execution_count": 37,
   "id": "d2232664-a13d-4934-aa39-8543fb6db298",
   "metadata": {},
   "outputs": [
    {
     "data": {
      "text/plain": [
       "False"
      ]
     },
     "execution_count": 37,
     "metadata": {},
     "output_type": "execute_result"
    }
   ],
   "source": [
    "1 in a"
   ]
  },
  {
   "cell_type": "code",
   "execution_count": 38,
   "id": "f5625107-7dbb-4895-afef-115d8f7faba8",
   "metadata": {},
   "outputs": [
    {
     "name": "stdout",
     "output_type": "stream",
     "text": [
      "4\n",
      "5\n",
      "8\n",
      "9\n"
     ]
    }
   ],
   "source": [
    "for x in a:\n",
    "    print(x)"
   ]
  },
  {
   "cell_type": "code",
   "execution_count": 39,
   "id": "177a19e3-9b44-428a-a4f9-ccade9cdc1fd",
   "metadata": {},
   "outputs": [
    {
     "data": {
      "text/plain": [
       "[4, 5, 8, 9, 4, 5, 8, 9, 4, 5, 8, 9, 4, 5, 8, 9, 4, 5, 8, 9]"
      ]
     },
     "execution_count": 39,
     "metadata": {},
     "output_type": "execute_result"
    }
   ],
   "source": [
    "a*5"
   ]
  },
  {
   "cell_type": "code",
   "execution_count": 40,
   "id": "1f45cf3a-0769-43fe-8739-6e7f5a730f14",
   "metadata": {},
   "outputs": [
    {
     "data": {
      "text/plain": [
       "[4, 5, 8, 9, 5, 1]"
      ]
     },
     "execution_count": 40,
     "metadata": {},
     "output_type": "execute_result"
    }
   ],
   "source": [
    "a+[5,1]"
   ]
  },
  {
   "cell_type": "code",
   "execution_count": 41,
   "id": "8f1f0ff0-fabc-4df3-a15c-85ae30637792",
   "metadata": {},
   "outputs": [
    {
     "data": {
      "text/plain": [
       "[4, 5, 8, 9, 4, 5, 8, 9]"
      ]
     },
     "execution_count": 41,
     "metadata": {},
     "output_type": "execute_result"
    }
   ],
   "source": [
    "c=a+a\n",
    "c"
   ]
  },
  {
   "cell_type": "code",
   "execution_count": 42,
   "id": "1b6249cb-d2ee-4be6-8e4c-3cb4b805bdae",
   "metadata": {},
   "outputs": [
    {
     "data": {
      "text/plain": [
       "[5, 9]"
      ]
     },
     "execution_count": 42,
     "metadata": {},
     "output_type": "execute_result"
    }
   ],
   "source": [
    "c[1:5:2]"
   ]
  },
  {
   "cell_type": "code",
   "execution_count": 43,
   "id": "c6bec24c-2ecc-4c10-9be3-11a69ae4d3b2",
   "metadata": {},
   "outputs": [
    {
     "data": {
      "text/plain": [
       "[4, 5, 8, 9, 4, 5, 8]"
      ]
     },
     "execution_count": 43,
     "metadata": {},
     "output_type": "execute_result"
    }
   ],
   "source": [
    "c[:-1] # this will reverse the list"
   ]
  },
  {
   "cell_type": "code",
   "execution_count": 44,
   "id": "9960acdc-d03d-4a23-a009-4d0765aa03a4",
   "metadata": {},
   "outputs": [
    {
     "data": {
      "text/plain": [
       "9"
      ]
     },
     "execution_count": 44,
     "metadata": {},
     "output_type": "execute_result"
    }
   ],
   "source": [
    "a[-1] #a[-2],a[-3]"
   ]
  },
  {
   "cell_type": "code",
   "execution_count": 45,
   "id": "872f3cfd-21e0-41f4-97f5-3588d64602ad",
   "metadata": {},
   "outputs": [
    {
     "data": {
      "text/plain": [
       "False"
      ]
     },
     "execution_count": 45,
     "metadata": {},
     "output_type": "execute_result"
    }
   ],
   "source": [
    "a[:]==a[:-1] # to check palindrome or not"
   ]
  },
  {
   "cell_type": "markdown",
   "id": "78f8b953-0a49-404a-b7bf-9b4d2c541d03",
   "metadata": {},
   "source": [
    "## Updating the list \n",
    "-insert <br>\n",
    "-append "
   ]
  },
  {
   "cell_type": "code",
   "execution_count": 46,
   "id": "9602c8d5-e917-4dc1-b62c-0fd827c4eaac",
   "metadata": {},
   "outputs": [],
   "source": [
    "lt=[2,5,6,7,'jatin']"
   ]
  },
  {
   "cell_type": "code",
   "execution_count": 48,
   "id": "5d0e280f-8256-43e5-8aae-88b1a9a40926",
   "metadata": {},
   "outputs": [],
   "source": [
    "lt.insert(2,\"lovely\")"
   ]
  },
  {
   "cell_type": "code",
   "execution_count": 49,
   "id": "5b5a9561-d1e3-4c98-b292-05019f0ee550",
   "metadata": {},
   "outputs": [
    {
     "data": {
      "text/plain": [
       "[2, 5, 'lovely', 6, 7, 'jatin']"
      ]
     },
     "execution_count": 49,
     "metadata": {},
     "output_type": "execute_result"
    }
   ],
   "source": [
    "lt"
   ]
  },
  {
   "cell_type": "code",
   "execution_count": 50,
   "id": "c8b82404-b53f-495a-b819-398fa868e728",
   "metadata": {},
   "outputs": [],
   "source": [
    "lt.append(5)"
   ]
  },
  {
   "cell_type": "code",
   "execution_count": 51,
   "id": "90924de6-00eb-4187-8563-459f83aa3315",
   "metadata": {},
   "outputs": [
    {
     "data": {
      "text/plain": [
       "[2, 5, 'lovely', 6, 7, 'jatin', 5]"
      ]
     },
     "execution_count": 51,
     "metadata": {},
     "output_type": "execute_result"
    }
   ],
   "source": [
    "lt"
   ]
  },
  {
   "cell_type": "markdown",
   "id": "3a577e5d-2784-4da8-8369-dcf6b6455b34",
   "metadata": {},
   "source": [
    "## Deleting list element\n",
    "-del(it is not operation )<br>\n",
    "-pop(when we want  a particular index to delete)<br>\n",
    "-remove(when we want a partivular object to delete)"
   ]
  },
  {
   "cell_type": "code",
   "execution_count": 52,
   "id": "8f5b991f-5f8f-45b5-aa89-0a5789a66e42",
   "metadata": {},
   "outputs": [
    {
     "data": {
      "text/plain": [
       "5"
      ]
     },
     "execution_count": 52,
     "metadata": {},
     "output_type": "execute_result"
    }
   ],
   "source": [
    "lt.pop(1)"
   ]
  },
  {
   "cell_type": "code",
   "execution_count": 55,
   "id": "3e32bc47-9957-4398-85e2-5048164b048d",
   "metadata": {},
   "outputs": [
    {
     "data": {
      "text/plain": [
       "[2, 'lovely', 6, 7, 5]"
      ]
     },
     "execution_count": 55,
     "metadata": {},
     "output_type": "execute_result"
    }
   ],
   "source": [
    "lt"
   ]
  },
  {
   "cell_type": "code",
   "execution_count": 56,
   "id": "690f039b-009e-4375-b557-f9a939c384ec",
   "metadata": {},
   "outputs": [],
   "source": [
    "lt.remove(\"lovely\")"
   ]
  },
  {
   "cell_type": "code",
   "execution_count": 57,
   "id": "ac7ce519-680f-4a18-bc0f-87b48733a90d",
   "metadata": {},
   "outputs": [
    {
     "data": {
      "text/plain": [
       "[2, 6, 7, 5]"
      ]
     },
     "execution_count": 57,
     "metadata": {},
     "output_type": "execute_result"
    }
   ],
   "source": [
    "lt"
   ]
  },
  {
   "cell_type": "code",
   "execution_count": 58,
   "id": "a488dc11-018c-4b6f-86a8-c52251bd1344",
   "metadata": {},
   "outputs": [],
   "source": [
    "del lt[0]"
   ]
  },
  {
   "cell_type": "code",
   "execution_count": 59,
   "id": "2ffb01f2-cd1c-4746-a17c-227b1acb9426",
   "metadata": {},
   "outputs": [
    {
     "data": {
      "text/plain": [
       "[6, 7, 5]"
      ]
     },
     "execution_count": 59,
     "metadata": {},
     "output_type": "execute_result"
    }
   ],
   "source": [
    "lt"
   ]
  },
  {
   "cell_type": "code",
   "execution_count": 60,
   "id": "3696743d-3c9e-4913-8bd3-ca549977fae3",
   "metadata": {},
   "outputs": [],
   "source": [
    "del lt"
   ]
  },
  {
   "cell_type": "markdown",
   "id": "fe4bcc07-c6a8-4c30-b3dd-c4c040cf0fc2",
   "metadata": {},
   "source": [
    "## Sorting and reversing"
   ]
  },
  {
   "cell_type": "code",
   "execution_count": 61,
   "id": "edec0afd-e626-4a55-99d9-1d4cc3152e4d",
   "metadata": {},
   "outputs": [],
   "source": [
    "a=[5,8,9,0,2,1]"
   ]
  },
  {
   "cell_type": "code",
   "execution_count": 62,
   "id": "b353c912-680b-4d3d-9f8a-c35951c437ea",
   "metadata": {},
   "outputs": [
    {
     "data": {
      "text/plain": [
       "[0, 1, 2, 5, 8, 9]"
      ]
     },
     "execution_count": 62,
     "metadata": {},
     "output_type": "execute_result"
    }
   ],
   "source": [
    "sorted(a)"
   ]
  },
  {
   "cell_type": "code",
   "execution_count": 63,
   "id": "1e9f6c3f-1509-4930-a66a-b6f93cb99d6a",
   "metadata": {},
   "outputs": [],
   "source": [
    "a.sort()"
   ]
  },
  {
   "cell_type": "code",
   "execution_count": 64,
   "id": "08a225d2-9b31-4de3-a2e0-d0eba1ddc7ee",
   "metadata": {},
   "outputs": [
    {
     "data": {
      "text/plain": [
       "[0, 1, 2, 5, 8, 9]"
      ]
     },
     "execution_count": 64,
     "metadata": {},
     "output_type": "execute_result"
    }
   ],
   "source": [
    "a"
   ]
  },
  {
   "cell_type": "code",
   "execution_count": 65,
   "id": "eb6870f6-48d6-4bca-91e8-88b5afa70945",
   "metadata": {},
   "outputs": [],
   "source": [
    "a.reverse()"
   ]
  },
  {
   "cell_type": "code",
   "execution_count": 66,
   "id": "75c51ec3-82d0-44ae-a1b0-bdca162363cc",
   "metadata": {},
   "outputs": [
    {
     "data": {
      "text/plain": [
       "[9, 8, 5, 2, 1, 0]"
      ]
     },
     "execution_count": 66,
     "metadata": {},
     "output_type": "execute_result"
    }
   ],
   "source": [
    "a"
   ]
  },
  {
   "cell_type": "code",
   "execution_count": 67,
   "id": "867cbb8f-d8c6-4a66-ae10-59ad75206ff9",
   "metadata": {},
   "outputs": [
    {
     "name": "stdout",
     "output_type": "stream",
     "text": [
      "0\n",
      "1\n",
      "2\n",
      "5\n",
      "8\n",
      "9\n"
     ]
    }
   ],
   "source": [
    "for i in reversed(a):\n",
    "    print(i)"
   ]
  },
  {
   "cell_type": "markdown",
   "id": "77ba6f3a-ee40-48da-a224-bfc28b871dc7",
   "metadata": {},
   "source": [
    "## Tupple\n",
    "-Just like lists, they can have different kinds of variable<br>\n",
    "-Difference between lists and tuples is that tuples are immutable.\n",
    "-list consume more memory,liist can be slow<br>\n",
    "-tupple are fast"
   ]
  },
  {
   "cell_type": "code",
   "execution_count": 72,
   "id": "23bd7ce9-b7a2-4180-b393-b071e54573db",
   "metadata": {},
   "outputs": [
    {
     "data": {
      "text/plain": [
       "5"
      ]
     },
     "execution_count": 72,
     "metadata": {},
     "output_type": "execute_result"
    }
   ],
   "source": [
    "a=('apple',1,5,8,3)\n",
    "a[2] #indexing"
   ]
  },
  {
   "cell_type": "code",
   "execution_count": 73,
   "id": "ac0ba4d1-1a08-4166-893e-54501330c410",
   "metadata": {},
   "outputs": [
    {
     "data": {
      "text/plain": [
       "(1, 5, 8, 3)"
      ]
     },
     "execution_count": 73,
     "metadata": {},
     "output_type": "execute_result"
    }
   ],
   "source": [
    "a[1:]"
   ]
  },
  {
   "cell_type": "code",
   "execution_count": 74,
   "id": "32a3e511-83f8-4a51-859a-c8efbc2e9d0a",
   "metadata": {},
   "outputs": [
    {
     "data": {
      "text/plain": [
       "(3, 8, 5, 1, 'apple')"
      ]
     },
     "execution_count": 74,
     "metadata": {},
     "output_type": "execute_result"
    }
   ],
   "source": [
    "a[::-1]"
   ]
  },
  {
   "cell_type": "code",
   "execution_count": 75,
   "id": "c3373b60-91c9-4ce0-8e0a-c40310698604",
   "metadata": {},
   "outputs": [],
   "source": [
    "a=list(a)"
   ]
  },
  {
   "cell_type": "code",
   "execution_count": 76,
   "id": "55876c5e-4ccb-4f28-936b-a55028f09472",
   "metadata": {},
   "outputs": [
    {
     "data": {
      "text/plain": [
       "['apple', 1, 5, 8, 3]"
      ]
     },
     "execution_count": 76,
     "metadata": {},
     "output_type": "execute_result"
    }
   ],
   "source": [
    "a"
   ]
  },
  {
   "cell_type": "code",
   "execution_count": 80,
   "id": "a25ecff4-05a4-41ec-95ef-837e5f5fbb9d",
   "metadata": {},
   "outputs": [
    {
     "data": {
      "text/plain": [
       "('apple', 1, 5, 8, 3)"
      ]
     },
     "execution_count": 80,
     "metadata": {},
     "output_type": "execute_result"
    }
   ],
   "source": [
    "a=tuple(a)\n",
    "a"
   ]
  },
  {
   "cell_type": "markdown",
   "id": "9e811b61-5aee-45d9-aa0c-59e65a57ffaa",
   "metadata": {},
   "source": [
    "## Dictionary\n",
    "-unordered<br>"
   ]
  },
  {
   "cell_type": "code",
   "execution_count": 85,
   "id": "4feeacef-2b14-4b62-8440-8aeecb95d883",
   "metadata": {},
   "outputs": [],
   "source": [
    "a={\n",
    "    \"name\":\"monika\",\n",
    "    \"age\":90,\n",
    "    \"subject\":[1,2,3],\n",
    "    \"l\":{\"pulkit\":\"anroid\"}\n",
    "}"
   ]
  },
  {
   "cell_type": "code",
   "execution_count": 86,
   "id": "027bd7f6-a676-4060-8765-960735bfb424",
   "metadata": {},
   "outputs": [
    {
     "data": {
      "text/plain": [
       "[1, 2, 3]"
      ]
     },
     "execution_count": 86,
     "metadata": {},
     "output_type": "execute_result"
    }
   ],
   "source": [
    "a[\"subject\"]"
   ]
  },
  {
   "cell_type": "code",
   "execution_count": 89,
   "id": "94e3f17f-b14d-46e1-89e0-f1898b92a96d",
   "metadata": {},
   "outputs": [
    {
     "name": "stdout",
     "output_type": "stream",
     "text": [
      "name\n",
      "age\n",
      "subject\n",
      "l\n"
     ]
    }
   ],
   "source": [
    "for key in a:     #iteration over a ductionary returns keys\n",
    "    print(key)"
   ]
  },
  {
   "cell_type": "markdown",
   "id": "2cfa197e-7435-4f53-9040-42cd70689c07",
   "metadata": {},
   "source": [
    "some important dict methods<br>\n",
    "get() ,items() ,    key() ,    values(),     clear()   "
   ]
  },
  {
   "cell_type": "code",
   "execution_count": 91,
   "id": "19573c12-5e08-4847-9633-c85268bffed2",
   "metadata": {},
   "outputs": [
    {
     "name": "stdout",
     "output_type": "stream",
     "text": [
      "('name', 'monika')\n",
      "('age', 90)\n",
      "('subject', [1, 2, 3])\n",
      "('l', {'pulkit': 'anroid'})\n"
     ]
    }
   ],
   "source": [
    "for key in a.items():     #items will split dictionary into tuple\n",
    "    print(key)"
   ]
  },
  {
   "cell_type": "code",
   "execution_count": 92,
   "id": "3b26ff42-3fc3-4fac-867b-96dfb0b58d2d",
   "metadata": {},
   "outputs": [
    {
     "name": "stdout",
     "output_type": "stream",
     "text": [
      "name -> monika\n",
      "age -> 90\n",
      "subject -> [1, 2, 3]\n",
      "l -> {'pulkit': 'anroid'}\n"
     ]
    }
   ],
   "source": [
    "for key,values in a.items():     \n",
    "    print(key,\"->\",values)"
   ]
  },
  {
   "cell_type": "code",
   "execution_count": 94,
   "id": "39d934c8-3896-446a-9b06-0f6ee57e19c3",
   "metadata": {},
   "outputs": [
    {
     "name": "stdout",
     "output_type": "stream",
     "text": [
      "name\n",
      "age\n",
      "subject\n",
      "l\n"
     ]
    }
   ],
   "source": [
    "for i in a.keys():\n",
    "    print(i)"
   ]
  },
  {
   "cell_type": "code",
   "execution_count": 95,
   "id": "799a7deb-0d24-4ebe-b209-149cc9e83a9e",
   "metadata": {},
   "outputs": [
    {
     "name": "stdout",
     "output_type": "stream",
     "text": [
      "monika\n",
      "90\n",
      "[1, 2, 3]\n",
      "{'pulkit': 'anroid'}\n"
     ]
    }
   ],
   "source": [
    "for i in a.values():\n",
    "    print(i)"
   ]
  },
  {
   "cell_type": "code",
   "execution_count": 96,
   "id": "cd7e35cd-e1fa-455e-972e-5a0a41724cb0",
   "metadata": {},
   "outputs": [],
   "source": [
    "a.get(\"name1\") #it will not give error but a[\"name'] can give"
   ]
  },
  {
   "cell_type": "code",
   "execution_count": 97,
   "id": "60a00fa8-eb91-403c-bde6-fb821be270dc",
   "metadata": {},
   "outputs": [],
   "source": [
    "a.clear()"
   ]
  },
  {
   "cell_type": "code",
   "execution_count": 98,
   "id": "725dec40-a598-4a06-9689-7d4a4da0f448",
   "metadata": {},
   "outputs": [
    {
     "data": {
      "text/plain": [
       "{}"
      ]
     },
     "execution_count": 98,
     "metadata": {},
     "output_type": "execute_result"
    }
   ],
   "source": [
    "a"
   ]
  },
  {
   "cell_type": "code",
   "execution_count": 111,
   "id": "dad139f3-9cf1-4342-81d9-403082e208a7",
   "metadata": {},
   "outputs": [],
   "source": [
    "students=[]"
   ]
  },
  {
   "cell_type": "code",
   "execution_count": 112,
   "id": "59d881fd-d9d8-4bd9-be1f-00cb1cc9d090",
   "metadata": {},
   "outputs": [
    {
     "name": "stdin",
     "output_type": "stream",
     "text": [
      " 2\n"
     ]
    }
   ],
   "source": [
    "n=int(input())"
   ]
  },
  {
   "cell_type": "code",
   "execution_count": null,
   "id": "ba7f892a-32db-411f-b48a-3eedf946beea",
   "metadata": {},
   "outputs": [],
   "source": []
  },
  {
   "cell_type": "code",
   "execution_count": 114,
   "id": "e0acd839-a6a2-42ee-a4b8-f8c6e9c587dc",
   "metadata": {},
   "outputs": [
    {
     "name": "stdin",
     "output_type": "stream",
     "text": [
      " 2\n",
      " l\n",
      " coe\n",
      " 9\n",
      " l\n",
      " csai\n"
     ]
    }
   ],
   "source": [
    "for _ in range(n):\n",
    "    roll=int(input())\n",
    "    name=input()\n",
    "    branch=input()\n",
    "    students.append({\n",
    "        \"roll no\":roll,\n",
    "        \"name\":name,\n",
    "        \"branch\":branch\n",
    "    })"
   ]
  },
  {
   "cell_type": "code",
   "execution_count": 115,
   "id": "2b41465f-815d-4b97-8cfb-7db6defc84ae",
   "metadata": {},
   "outputs": [
    {
     "data": {
      "text/plain": [
       "[{'roll no': 1, 'name': 'monika', 'branch': 'csai'},\n",
       " {'roll no': 6, 'name': 'ravi', 'branch': 'ee'},\n",
       " {'roll no': 2, 'name': 'l', 'branch': 'coe'},\n",
       " {'roll no': 9, 'name': 'l', 'branch': 'csai'}]"
      ]
     },
     "execution_count": 115,
     "metadata": {},
     "output_type": "execute_result"
    }
   ],
   "source": [
    "students"
   ]
  },
  {
   "cell_type": "markdown",
   "id": "342c4ed4-440c-445a-b6ae-e78920b482d0",
   "metadata": {},
   "source": [
    "## Sets\n",
    "-unorders ds<br>\n",
    "set is unique collection of particular item<br>\n",
    "\n"
   ]
  },
  {
   "cell_type": "code",
   "execution_count": 116,
   "id": "ccda1eb8-d88a-4e9c-ae76-7e6de2770c6b",
   "metadata": {},
   "outputs": [],
   "source": [
    "a={4,5,3,\"monika\"}"
   ]
  },
  {
   "cell_type": "code",
   "execution_count": 117,
   "id": "69f74c0b-940f-43f9-983e-96b3a5f209cd",
   "metadata": {},
   "outputs": [
    {
     "data": {
      "text/plain": [
       "{3, 4, 5, 'monika'}"
      ]
     },
     "execution_count": 117,
     "metadata": {},
     "output_type": "execute_result"
    }
   ],
   "source": [
    "a"
   ]
  },
  {
   "cell_type": "code",
   "execution_count": 118,
   "id": "c7052279-46db-4ece-a73e-8a9ab90fa665",
   "metadata": {},
   "outputs": [
    {
     "data": {
      "text/plain": [
       "dict"
      ]
     },
     "execution_count": 118,
     "metadata": {},
     "output_type": "execute_result"
    }
   ],
   "source": [
    "a={}\n",
    "type(a)"
   ]
  },
  {
   "cell_type": "code",
   "execution_count": 120,
   "id": "9c6edab6-a3aa-4733-849b-51286a01b895",
   "metadata": {},
   "outputs": [
    {
     "data": {
      "text/plain": [
       "set"
      ]
     },
     "execution_count": 120,
     "metadata": {},
     "output_type": "execute_result"
    }
   ],
   "source": [
    "a=set()\n",
    "type(a)"
   ]
  },
  {
   "cell_type": "code",
   "execution_count": 121,
   "id": "37f49411-aa14-40b8-8916-745537aeef2c",
   "metadata": {},
   "outputs": [],
   "source": [
    "b={5,6,2,8}"
   ]
  },
  {
   "cell_type": "code",
   "execution_count": 122,
   "id": "855dce85-78de-4011-909b-4682da0f6727",
   "metadata": {},
   "outputs": [],
   "source": [
    "c={5,3,10,12}"
   ]
  },
  {
   "cell_type": "code",
   "execution_count": 123,
   "id": "2e35ae50-e130-4d69-adbf-e9e6a4f5936f",
   "metadata": {},
   "outputs": [
    {
     "data": {
      "text/plain": [
       "{2, 5, 6, 8}"
      ]
     },
     "execution_count": 123,
     "metadata": {},
     "output_type": "execute_result"
    }
   ],
   "source": [
    "b.intersection(b)"
   ]
  },
  {
   "cell_type": "code",
   "execution_count": 124,
   "id": "ad8cf824-ed76-4445-ada5-3031b86065cc",
   "metadata": {},
   "outputs": [
    {
     "data": {
      "text/plain": [
       "{2, 3, 5, 6, 8, 10, 12}"
      ]
     },
     "execution_count": 124,
     "metadata": {},
     "output_type": "execute_result"
    }
   ],
   "source": [
    "b.union(c)"
   ]
  },
  {
   "cell_type": "code",
   "execution_count": 125,
   "id": "4da934a0-180c-40c0-b3c3-7b110716240e",
   "metadata": {},
   "outputs": [],
   "source": [
    "#a[1] dpes not exist in sets indexing not support in sets"
   ]
  },
  {
   "cell_type": "code",
   "execution_count": 128,
   "id": "8007b697-ef85-4aa7-9656-64d586138f1d",
   "metadata": {},
   "outputs": [
    {
     "name": "stdout",
     "output_type": "stream",
     "text": [
      "8\n",
      "2\n",
      "5\n",
      "6\n"
     ]
    }
   ],
   "source": [
    "for i in b:\n",
    "    print(i)"
   ]
  },
  {
   "cell_type": "code",
   "execution_count": 129,
   "id": "22360679-1ecc-49d0-9c87-238f1152e576",
   "metadata": {},
   "outputs": [],
   "source": [
    "# one important features of set is it will ot count duplicates "
   ]
  },
  {
   "cell_type": "code",
   "execution_count": 130,
   "id": "82bb0033-1de7-4db0-9f04-eb5471657b4c",
   "metadata": {},
   "outputs": [],
   "source": [
    "a={1,1,1,1,2,1,2,1,3,2,3,3}"
   ]
  },
  {
   "cell_type": "code",
   "execution_count": 131,
   "id": "ca3421e3-3700-4df2-98a1-29bc4df32e9c",
   "metadata": {},
   "outputs": [
    {
     "data": {
      "text/plain": [
       "{1, 2, 3}"
      ]
     },
     "execution_count": 131,
     "metadata": {},
     "output_type": "execute_result"
    }
   ],
   "source": [
    "a"
   ]
  },
  {
   "cell_type": "code",
   "execution_count": 132,
   "id": "60fde4b7-e80b-4b71-b08b-7037511663c7",
   "metadata": {},
   "outputs": [
    {
     "data": {
      "text/plain": [
       "[1, 2, 3]"
      ]
     },
     "execution_count": 132,
     "metadata": {},
     "output_type": "execute_result"
    }
   ],
   "source": [
    "a=[1,1,1,1,1,1,3,3,2,1,3]\n",
    "list(set(a))"
   ]
  },
  {
   "cell_type": "markdown",
   "id": "f023d27e-ad39-4abf-ab9f-89be0d5d8b7e",
   "metadata": {},
   "source": [
    "## Comprehension\n",
    "it is a method using which we can create a set,list,dict in a single line of python"
   ]
  },
  {
   "cell_type": "code",
   "execution_count": 134,
   "id": "8ffe61b7-387d-488e-a160-b41375831d9c",
   "metadata": {},
   "outputs": [],
   "source": [
    "a=[]\n",
    "for i in range(5):\n",
    "    a.append(i**2)"
   ]
  },
  {
   "cell_type": "code",
   "execution_count": 135,
   "id": "577384e4-4e7b-4aa6-b547-b6ddf9335165",
   "metadata": {},
   "outputs": [
    {
     "name": "stdout",
     "output_type": "stream",
     "text": [
      "[0, 1, 4, 9, 16]\n"
     ]
    }
   ],
   "source": [
    "print(a)"
   ]
  },
  {
   "cell_type": "code",
   "execution_count": 138,
   "id": "fd841e1c-9989-4af2-aeb8-a2724eba5737",
   "metadata": {},
   "outputs": [
    {
     "data": {
      "text/plain": [
       "[0, 1, 4, 9, 16]"
      ]
     },
     "execution_count": 138,
     "metadata": {},
     "output_type": "execute_result"
    }
   ],
   "source": [
    "[i**2 for i in range(5)]  #List Comprehension"
   ]
  },
  {
   "cell_type": "code",
   "execution_count": 139,
   "id": "d7a63d7f-8769-4668-baea-5bc3ad1011f9",
   "metadata": {},
   "outputs": [
    {
     "data": {
      "text/plain": [
       "[0, 4, 16, 36, 64]"
      ]
     },
     "execution_count": 139,
     "metadata": {},
     "output_type": "execute_result"
    }
   ],
   "source": [
    "[i**2 for i in range(10) if i%2==0]"
   ]
  },
  {
   "cell_type": "code",
   "execution_count": 140,
   "id": "d7ac8d57-7ba3-4f26-be1e-4d8cfe820c1d",
   "metadata": {},
   "outputs": [
    {
     "data": {
      "text/plain": [
       "{0: 0, 1: 1, 2: 4, 3: 9, 4: 16, 5: 25, 6: 36, 7: 49, 8: 64, 9: 81}"
      ]
     },
     "execution_count": 140,
     "metadata": {},
     "output_type": "execute_result"
    }
   ],
   "source": [
    "{i: i**2 for i in range(10)} #Dictionary comprehension"
   ]
  },
  {
   "cell_type": "code",
   "execution_count": 142,
   "id": "c1261845-648d-4348-a53a-e7a3d3f18521",
   "metadata": {},
   "outputs": [
    {
     "data": {
      "text/plain": [
       "{0, 1, 4, 9, 16, 25, 36, 49, 64, 81}"
      ]
     },
     "execution_count": 142,
     "metadata": {},
     "output_type": "execute_result"
    }
   ],
   "source": [
    "{i**2 for i in range(10)}"
   ]
  },
  {
   "cell_type": "markdown",
   "id": "76d9b86d-ac84-421b-a540-6012c80c00b3",
   "metadata": {},
   "source": [
    "## tuple comprehension can also done but it is generation function"
   ]
  },
  {
   "cell_type": "code",
   "execution_count": null,
   "id": "b2903723-24b7-4ba5-8770-c35d6c71ec08",
   "metadata": {},
   "outputs": [],
   "source": []
  }
 ],
 "metadata": {
  "kernelspec": {
   "display_name": "Python 3 (ipykernel)",
   "language": "python",
   "name": "python3"
  },
  "language_info": {
   "codemirror_mode": {
    "name": "ipython",
    "version": 3
   },
   "file_extension": ".py",
   "mimetype": "text/x-python",
   "name": "python",
   "nbconvert_exporter": "python",
   "pygments_lexer": "ipython3",
   "version": "3.9.7"
  }
 },
 "nbformat": 4,
 "nbformat_minor": 5
}
