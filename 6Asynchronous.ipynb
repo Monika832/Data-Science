{
 "cells": [
  {
   "cell_type": "markdown",
   "id": "92ff5b21-67fe-4a5d-be9f-080285fbf413",
   "metadata": {},
   "source": [
    "## Asynchronous Programming in Python"
   ]
  },
  {
   "cell_type": "markdown",
   "id": "172bd6e4-2794-45d0-91b8-aeedeea1edd5",
   "metadata": {},
   "source": [
    "#There are four ways to write asynchronous programmings \n",
    "- Multiprocessing\n",
    "- Multiplethreading:Our process is utilizing a single core of CPU but having multiple threads. Context Swichting happen by OS.\n",
    "- Coroutines:  Context Swichting happens by the programmers.\n",
    "- AsyncIO=a librarsy in python\n",
    "\n"
   ]
  },
  {
   "cell_type": "markdown",
   "id": "cde0cadb-8d5d-498c-be35-dd9b81a65ae0",
   "metadata": {},
   "source": [
    "## MultiProcessing"
   ]
  },
  {
   "cell_type": "code",
   "execution_count": 1,
   "id": "5bd0b19b-848d-4a0a-b7a6-25cebb5ed7be",
   "metadata": {},
   "outputs": [],
   "source": [
    "from multiprocessing  import Process"
   ]
  },
  {
   "cell_type": "code",
   "execution_count": 2,
   "id": "33e4b948-9480-4f32-8c29-66902264c197",
   "metadata": {},
   "outputs": [],
   "source": [
    "def showSquare(num=2):\n",
    "    for i in range(1000000):pass\n",
    "    print(num**2)"
   ]
  },
  {
   "cell_type": "code",
   "execution_count": 3,
   "id": "d4f6df5c-eba3-41ae-b518-ae41a99c6dc8",
   "metadata": {},
   "outputs": [],
   "source": [
    "procs=[]"
   ]
  },
  {
   "cell_type": "code",
   "execution_count": 4,
   "id": "b0b0a1ea-c170-43cb-9198-b75603de7e57",
   "metadata": {},
   "outputs": [],
   "source": [
    "for i in range(5):\n",
    "    procs.append(Process(target=showSquare,args=(i+1, )))"
   ]
  },
  {
   "cell_type": "code",
   "execution_count": 5,
   "id": "a4fdce5f-de18-4388-b170-9f0c689246e0",
   "metadata": {},
   "outputs": [
    {
     "name": "stdout",
     "output_type": "stream",
     "text": [
      "Hello\n"
     ]
    }
   ],
   "source": [
    "for proc in procs:\n",
    "    proc.start()\n",
    "print(\"Hello\")"
   ]
  },
  {
   "cell_type": "code",
   "execution_count": 6,
   "id": "60c9e289-186c-4210-96e9-e0bec4e411fc",
   "metadata": {},
   "outputs": [],
   "source": [
    "for proc in procs:\n",
    "    proc.join()"
   ]
  },
  {
   "cell_type": "code",
   "execution_count": 7,
   "id": "c8868e51-9865-4771-9483-dbae84b364e1",
   "metadata": {},
   "outputs": [],
   "source": [
    "#In multiple processing you dont have much control over how code is handling"
   ]
  },
  {
   "cell_type": "markdown",
   "id": "60c432a9-e440-43a8-9d52-6c4f2141942d",
   "metadata": {},
   "source": [
    "## Multi Threading"
   ]
  },
  {
   "cell_type": "code",
   "execution_count": 12,
   "id": "b6870924-19c4-4aa9-a33f-c3bec53eb708",
   "metadata": {},
   "outputs": [],
   "source": [
    "from threading import Thread"
   ]
  },
  {
   "cell_type": "code",
   "execution_count": 13,
   "id": "1e92477e-a38e-4e6d-ac77-fbaed62683bc",
   "metadata": {},
   "outputs": [],
   "source": [
    "def square(n):\n",
    "    print('square is',n**2)\n",
    "def cube(n):\n",
    "    print('cube is ',n**3)"
   ]
  },
  {
   "cell_type": "code",
   "execution_count": 16,
   "id": "23e81ae8-f6de-4ef3-872a-a783f4cfcec2",
   "metadata": {},
   "outputs": [],
   "source": [
    "t1=Thread(target=square,args=(4,))\n",
    "t2=Thread(target=cube,args=(3,))"
   ]
  },
  {
   "cell_type": "code",
   "execution_count": 17,
   "id": "49144c70-7fb3-4c29-8ef9-0e3d2884413e",
   "metadata": {},
   "outputs": [
    {
     "name": "stdout",
     "output_type": "stream",
     "text": [
      "square is 16\n",
      "cube is  hello27\n",
      "\n"
     ]
    }
   ],
   "source": [
    "t1.start()\n",
    "t2.start()\n",
    "print(\"hello\")"
   ]
  },
  {
   "cell_type": "code",
   "execution_count": 20,
   "id": "00c44cba-698b-44f4-9c00-8743934f3e36",
   "metadata": {},
   "outputs": [],
   "source": [
    "t1.join() #join is synchronous"
   ]
  },
  {
   "cell_type": "code",
   "execution_count": 21,
   "id": "9264b89b-63e3-4e14-b743-fc0914b1b51c",
   "metadata": {},
   "outputs": [],
   "source": [
    "t2.join()"
   ]
  },
  {
   "cell_type": "code",
   "execution_count": 22,
   "id": "e2980d1e-ef6c-4c47-b914-e2f8c1abb170",
   "metadata": {},
   "outputs": [],
   "source": [
    "#there is a resource sharing in b/w threads"
   ]
  },
  {
   "cell_type": "code",
   "execution_count": 23,
   "id": "b1168782-68c1-416b-8501-d0b319fc8363",
   "metadata": {},
   "outputs": [],
   "source": [
    "#example of resource sharing\n",
    "from queue import Queue"
   ]
  },
  {
   "cell_type": "markdown",
   "id": "7216b579-a01e-42cc-9318-4ce416f0a965",
   "metadata": {},
   "source": [
    "## Couroutines\n",
    "- yield "
   ]
  },
  {
   "cell_type": "code",
   "execution_count": 26,
   "id": "ddfceb54-e05f-47d4-9793-e44e2bd191df",
   "metadata": {},
   "outputs": [],
   "source": [
    "def fancy_name(prefix):\n",
    "    try:\n",
    "        while True:\n",
    "            name=(yield)\n",
    "            print(prefix+\":\"+name)\n",
    "    except GeneratorExit:\n",
    "        print(\"Done\")"
   ]
  },
  {
   "cell_type": "code",
   "execution_count": 27,
   "id": "1f88a332-5301-4c7f-8c8d-c1ef956e7deb",
   "metadata": {},
   "outputs": [],
   "source": [
    "co=fancy_name(\"Cool\")"
   ]
  },
  {
   "cell_type": "code",
   "execution_count": 28,
   "id": "1b19daf4-014c-46c0-8b09-03790d1e53f1",
   "metadata": {},
   "outputs": [],
   "source": [
    "next(co) #Intialization"
   ]
  },
  {
   "cell_type": "code",
   "execution_count": 30,
   "id": "427ec774-0bcd-4251-9957-93e71b2f1e87",
   "metadata": {},
   "outputs": [
    {
     "name": "stdout",
     "output_type": "stream",
     "text": [
      "Cool:monika\n"
     ]
    }
   ],
   "source": [
    "co.send(\"monika\") #Sending data and control"
   ]
  },
  {
   "cell_type": "code",
   "execution_count": 31,
   "id": "709e3ff6-cda5-4813-98d5-7160cea31a86",
   "metadata": {},
   "outputs": [
    {
     "name": "stdout",
     "output_type": "stream",
     "text": [
      "Cool:prateek\n"
     ]
    }
   ],
   "source": [
    "co.send(\"prateek\")"
   ]
  },
  {
   "cell_type": "code",
   "execution_count": 32,
   "id": "8d67878f-679e-4c74-9aca-b510e3e0e273",
   "metadata": {},
   "outputs": [
    {
     "name": "stdout",
     "output_type": "stream",
     "text": [
      "Done\n"
     ]
    }
   ],
   "source": [
    "co.close()"
   ]
  },
  {
   "cell_type": "markdown",
   "id": "c874a154-2773-4a75-ae70-3c523a42c079",
   "metadata": {},
   "source": [
    "## AsyncIO : It manage all ashyncronous  task\n"
   ]
  },
  {
   "cell_type": "code",
   "execution_count": null,
   "id": "79787706-d58a-4c35-bdb4-d386661fe87f",
   "metadata": {},
   "outputs": [],
   "source": [
    " "
   ]
  }
 ],
 "metadata": {
  "kernelspec": {
   "display_name": "Python 3 (ipykernel)",
   "language": "python",
   "name": "python3"
  },
  "language_info": {
   "codemirror_mode": {
    "name": "ipython",
    "version": 3
   },
   "file_extension": ".py",
   "mimetype": "text/x-python",
   "name": "python",
   "nbconvert_exporter": "python",
   "pygments_lexer": "ipython3",
   "version": "3.9.7"
  }
 },
 "nbformat": 4,
 "nbformat_minor": 5
}
