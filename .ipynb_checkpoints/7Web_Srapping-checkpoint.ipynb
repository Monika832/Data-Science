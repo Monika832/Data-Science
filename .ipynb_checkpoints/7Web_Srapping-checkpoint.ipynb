{
 "cells": [
  {
   "cell_type": "markdown",
   "id": "d36bc000-67ee-43cc-ae98-21291847ddfb",
   "metadata": {},
   "source": [
    "## Data Scraping\n",
    "- Import Beautiful Soup\n",
    "- Make a get request ti fetch page data\n",
    "- Parse HTML\n",
    "- Filter relevant parts"
   ]
  },
  {
   "cell_type": "markdown",
   "id": "65416d12-20a6-4ac5-b635-6d1440164018",
   "metadata": {},
   "source": [
    "beautiful soup is a python library used to extract information from xml,html file"
   ]
  },
  {
   "cell_type": "code",
   "execution_count": 1,
   "id": "53b7b350-d952-4ed7-b4a7-197190bb58a2",
   "metadata": {},
   "outputs": [
    {
     "name": "stderr",
     "output_type": "stream",
     "text": [
      "WARNING: You are using pip version 22.0.4; however, version 22.1.2 is available.\n",
      "You should consider upgrading via the 'C:\\Users\\lenovo\\AppData\\Local\\Programs\\Python\\Python39\\python.exe -m pip install --upgrade pip' command.\n"
     ]
    },
    {
     "name": "stdout",
     "output_type": "stream",
     "text": [
      "Requirement already satisfied: bs4 in c:\\users\\lenovo\\appdata\\local\\programs\\python\\python39\\lib\\site-packages (0.0.1)\n",
      "Requirement already satisfied: beautifulsoup4 in c:\\users\\lenovo\\appdata\\local\\programs\\python\\python39\\lib\\site-packages (from bs4) (4.11.1)\n",
      "Requirement already satisfied: soupsieve>1.2 in c:\\users\\lenovo\\appdata\\local\\programs\\python\\python39\\lib\\site-packages (from beautifulsoup4->bs4) (2.3.2.post1)\n"
     ]
    }
   ],
   "source": [
    "!pip install bs4"
   ]
  },
  {
   "cell_type": "code",
   "execution_count": 2,
   "id": "2b10c376-3f3a-453f-a8cc-01cdb66bf205",
   "metadata": {},
   "outputs": [],
   "source": [
    "from urllib.request import urlopen"
   ]
  },
  {
   "cell_type": "code",
   "execution_count": 3,
   "id": "47823cac-f7c1-45c9-b40e-dfcbe69c997c",
   "metadata": {},
   "outputs": [],
   "source": [
    "anroid_url=\"https://en.wikipedia.org/wiki/Android_version_history\""
   ]
  },
  {
   "cell_type": "code",
   "execution_count": 4,
   "id": "a451b731-aff5-4aca-8d25-2fded1f5e4b0",
   "metadata": {},
   "outputs": [
    {
     "name": "stdout",
     "output_type": "stream",
     "text": [
      "<class 'http.client.HTTPResponse'>\n"
     ]
    }
   ],
   "source": [
    "anroid_data=urlopen(anroid_url)\n",
    "print(type(anroid_data))"
   ]
  },
  {
   "cell_type": "code",
   "execution_count": null,
   "id": "975c4457-8354-41c4-9bfb-eef74bdf32f1",
   "metadata": {},
   "outputs": [],
   "source": [
    "anroid_html=anroid_data.read()\n",
    "print(anroid_html)\n",
    "anroid_data.close()"
   ]
  },
  {
   "cell_type": "markdown",
   "id": "e8618a25-51a6-42d5-b4f3-3c443c100289",
   "metadata": {},
   "source": [
    "## Parsing Data(HTML content)"
   ]
  },
  {
   "cell_type": "code",
   "execution_count": 6,
   "id": "aec30ccd-5784-431e-aa0c-01a7fbe2c334",
   "metadata": {},
   "outputs": [],
   "source": [
    "from bs4 import BeautifulSoup as soup"
   ]
  },
  {
   "cell_type": "code",
   "execution_count": 7,
   "id": "5e9aef6b-354a-4317-8575-39be7cb31735",
   "metadata": {},
   "outputs": [],
   "source": [
    "anroid_soup=soup(anroid_html,\"html.parser\")"
   ]
  },
  {
   "cell_type": "code",
   "execution_count": null,
   "id": "478824a9-57cf-494a-8083-33bee871ed0d",
   "metadata": {},
   "outputs": [],
   "source": [
    "print(anroid_soup)"
   ]
  },
  {
   "cell_type": "code",
   "execution_count": 9,
   "id": "f5b7bfe4-71e2-4bb4-acb1-d86a137eed7d",
   "metadata": {},
   "outputs": [
    {
     "name": "stdout",
     "output_type": "stream",
     "text": [
      "<class 'bs4.BeautifulSoup'>\n"
     ]
    }
   ],
   "source": [
    "print(type(anroid_soup))"
   ]
  },
  {
   "cell_type": "code",
   "execution_count": 10,
   "id": "59448107-ea72-436b-9a4e-a6208f9da7e7",
   "metadata": {},
   "outputs": [
    {
     "data": {
      "text/plain": [
       "<h1 class=\"firstHeading mw-first-heading\" id=\"firstHeading\">Android version history</h1>"
      ]
     },
     "execution_count": 10,
     "metadata": {},
     "output_type": "execute_result"
    }
   ],
   "source": [
    "anroid_soup.h1"
   ]
  },
  {
   "cell_type": "code",
   "execution_count": 11,
   "id": "64114a0a-a76b-4ee1-81c5-bd008efd975f",
   "metadata": {},
   "outputs": [
    {
     "data": {
      "text/plain": [
       "[<h1 class=\"firstHeading mw-first-heading\" id=\"firstHeading\">Android version history</h1>]"
      ]
     },
     "execution_count": 11,
     "metadata": {},
     "output_type": "execute_result"
    }
   ],
   "source": [
    "anroid_soup.findAll('h1',{})"
   ]
  },
  {
   "cell_type": "code",
   "execution_count": 12,
   "id": "4d857c65-815e-49ee-9178-bd32e69d7a38",
   "metadata": {},
   "outputs": [
    {
     "name": "stdout",
     "output_type": "stream",
     "text": [
      "33\n"
     ]
    }
   ],
   "source": [
    " tables=anroid_soup.findAll('table',{'class':'wikitable'})\n",
    "print(len(tables))"
   ]
  },
  {
   "cell_type": "code",
   "execution_count": null,
   "id": "5d301b74-01fe-4bb0-9f0f-cc84d2b84eb7",
   "metadata": {},
   "outputs": [],
   "source": [
    "android_tables=tables[0]\n",
    "print(android_tables)"
   ]
  },
  {
   "cell_type": "markdown",
   "id": "1b74b892-7c27-42ed-9fdd-5a4d17380405",
   "metadata": {},
   "source": [
    "## Extracting Useful Information\n",
    "- remove undesirable tags\n",
    "- extract table  haeder and data"
   ]
  },
  {
   "cell_type": "code",
   "execution_count": 14,
   "id": "65c3c5b2-22f0-4089-9c37-f7d4e39751d8",
   "metadata": {},
   "outputs": [],
   "source": [
    "headers=android_tables.findAll('th')"
   ]
  },
  {
   "cell_type": "code",
   "execution_count": 15,
   "id": "dace7aaf-431a-4f0f-b876-8502cdff64f8",
   "metadata": {},
   "outputs": [
    {
     "name": "stdout",
     "output_type": "stream",
     "text": [
      "7\n"
     ]
    }
   ],
   "source": [
    "print(len(headers))"
   ]
  },
  {
   "cell_type": "code",
   "execution_count": 16,
   "id": "6221a343-b660-471e-874d-73b4db7e3922",
   "metadata": {},
   "outputs": [],
   "source": [
    "col_tittles=[ct.text[:-1] for ct in headers]"
   ]
  },
  {
   "cell_type": "code",
   "execution_count": 17,
   "id": "afe8300a-3df2-4ec3-be98-83cb324fc315",
   "metadata": {},
   "outputs": [
    {
     "name": "stdout",
     "output_type": "stream",
     "text": [
      "['Name', 'Internal codename[9]', 'Version number(s)', 'APIlevel', 'Initial stablerelease date', 'Latest security patch date[14]', 'Latest Google Play Services version[15](release date)']\n"
     ]
    }
   ],
   "source": [
    "print(col_tittles)"
   ]
  },
  {
   "cell_type": "code",
   "execution_count": 57,
   "id": "65b1d809-77a5-47b0-a056-d1b81ea73796",
   "metadata": {},
   "outputs": [
    {
     "name": "stdout",
     "output_type": "stream",
     "text": [
      "34\n",
      "Android 1.0\n",
      "N/A\n",
      "Old version, no longer maintained: 1.0\n",
      "1\n",
      "September 23, 2008\n",
      "N/A\n",
      "N/A\n"
     ]
    }
   ],
   "source": [
    "row_data=android_tables.findAll('tr')[1:]\n",
    "print(len(row_data))\n",
    "first_row=row_data[0].findAll('td',{})\n",
    "for d in first_row:\n",
    "    print(d.text[:-1])\n"
   ]
  },
  {
   "cell_type": "code",
   "execution_count": 58,
   "id": "4584a0d3-3e03-4f9b-b5ac-8c1db44a04ba",
   "metadata": {},
   "outputs": [],
   "source": [
    "table_rows=[]\n",
    "for row in row_data:\n",
    "    current_row=[]\n",
    "    row_data=row.findAll('td',{})\n",
    "    for idx,data in enumerate(row_data):\n",
    "        if idx==1:\n",
    "            current_row.append(data.text[:-1].split(\":\")[-1])\n",
    "        elif idx!=0 and idx!=3:\n",
    "            ct=data.text.strip(\"\\n\")\n",
    "            current_row.append(ct[:-1])\n",
    "        else:\n",
    "            ct=data.text.strip(\"\\n\")\n",
    "            current_row.append(ct)\n",
    "    table_rows.append(current_row)"
   ]
  },
  {
   "cell_type": "code",
   "execution_count": null,
   "id": "5a91b35c-0919-43f1-9438-f447e9654118",
   "metadata": {},
   "outputs": [],
   "source": [
    "print(table_rows)"
   ]
  },
  {
   "cell_type": "markdown",
   "id": "913264a7-db52-4eb1-ab30-76b74e8656f7",
   "metadata": {},
   "source": [
    "## Reading and Writing CSV files"
   ]
  },
  {
   "cell_type": "code",
   "execution_count": 62,
   "id": "21cebd5a-f917-4366-89dd-8c1e16c45bec",
   "metadata": {},
   "outputs": [],
   "source": [
    "filename='anroid_version_history.csv'\n",
    "with open(filename,'w',encoding='utf-8')as f:\n",
    "    header_string=','.join(col_tittles)\n",
    "    header_string+='\\n'\n",
    "    f.write(header_string)\n",
    "    \n",
    "    for row in table_rows[:-1]:\n",
    "        row_string=\"\"\n",
    "        row_string=','.join(row)\n",
    "        row_string +='\\n'\n",
    "        f.write(row_string)"
   ]
  },
  {
   "cell_type": "markdown",
   "id": "cfa46c44-fbd6-4a84-87ab-05de6e2ea366",
   "metadata": {},
   "source": [
    "## Cleaning the data "
   ]
  },
  {
   "cell_type": "markdown",
   "id": "aca66b17-8c05-4490-adfc-c8f6264fa3ca",
   "metadata": {},
   "source": [
    "- Remove unwanted commas and symbols\n",
    "- undesired information"
   ]
  },
  {
   "cell_type": "code",
   "execution_count": null,
   "id": "f8ade5e4-b29c-427a-86ba-e1f3c4f3a6b4",
   "metadata": {},
   "outputs": [],
   "source": []
  }
 ],
 "metadata": {
  "kernelspec": {
   "display_name": "Python 3 (ipykernel)",
   "language": "python",
   "name": "python3"
  },
  "language_info": {
   "codemirror_mode": {
    "name": "ipython",
    "version": 3
   },
   "file_extension": ".py",
   "mimetype": "text/x-python",
   "name": "python",
   "nbconvert_exporter": "python",
   "pygments_lexer": "ipython3",
   "version": "3.9.7"
  }
 },
 "nbformat": 4,
 "nbformat_minor": 5
}
