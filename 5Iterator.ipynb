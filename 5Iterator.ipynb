{
 "cells": [
  {
   "cell_type": "markdown",
   "id": "5eb7ae56-419a-457f-94f8-80cf8228762b",
   "metadata": {},
   "source": [
    "## Iteration protocol and Generator"
   ]
  },
  {
   "cell_type": "markdown",
   "id": "e36a2a8a-21e1-4b63-9c39-a811945161a2",
   "metadata": {},
   "source": [
    "- Iteration: repitition of a process\n",
    "- Iterable: a python object which support iteration\n",
    "- Iterator: a python object to perform iteration over a iterable"
   ]
  },
  {
   "cell_type": "code",
   "execution_count": 1,
   "id": "584ece3b-7668-4359-a391-935553e40757",
   "metadata": {},
   "outputs": [],
   "source": [
    "x=[1,2,3]"
   ]
  },
  {
   "cell_type": "code",
   "execution_count": 2,
   "id": "146c590a-02ac-4590-8685-eeaf4468ef6e",
   "metadata": {},
   "outputs": [],
   "source": [
    "x_iter=iter(x)"
   ]
  },
  {
   "cell_type": "code",
   "execution_count": 3,
   "id": "38269afd-5cc6-42c6-ab0c-1e6dddf8cb28",
   "metadata": {},
   "outputs": [
    {
     "data": {
      "text/plain": [
       "1"
      ]
     },
     "execution_count": 3,
     "metadata": {},
     "output_type": "execute_result"
    }
   ],
   "source": [
    "next(x_iter)"
   ]
  },
  {
   "cell_type": "code",
   "execution_count": 4,
   "id": "e923f1e6-2832-4567-986d-8a168ace2e92",
   "metadata": {},
   "outputs": [
    {
     "data": {
      "text/plain": [
       "2"
      ]
     },
     "execution_count": 4,
     "metadata": {},
     "output_type": "execute_result"
    }
   ],
   "source": [
    "next(x_iter)"
   ]
  },
  {
   "cell_type": "code",
   "execution_count": 5,
   "id": "313a2c16-081a-49d3-a763-42d43e2ff747",
   "metadata": {},
   "outputs": [
    {
     "data": {
      "text/plain": [
       "3"
      ]
     },
     "execution_count": 5,
     "metadata": {},
     "output_type": "execute_result"
    }
   ],
   "source": [
    "next(x_iter)"
   ]
  },
  {
   "cell_type": "code",
   "execution_count": 7,
   "id": "e6316aa5-61d7-4c48-9506-f78918b67d4b",
   "metadata": {},
   "outputs": [
    {
     "ename": "StopIteration",
     "evalue": "",
     "output_type": "error",
     "traceback": [
      "\u001b[1;31m---------------------------------------------------------------------------\u001b[0m",
      "\u001b[1;31mStopIteration\u001b[0m                             Traceback (most recent call last)",
      "\u001b[1;32m~\\AppData\\Local\\Temp/ipykernel_11716/1062570034.py\u001b[0m in \u001b[0;36m<module>\u001b[1;34m\u001b[0m\n\u001b[1;32m----> 1\u001b[1;33m \u001b[0mnext\u001b[0m\u001b[1;33m(\u001b[0m\u001b[0mx_iter\u001b[0m\u001b[1;33m)\u001b[0m \u001b[1;31m# as it reaches end it will give a stop iteration errorv\u001b[0m\u001b[1;33m\u001b[0m\u001b[1;33m\u001b[0m\u001b[0m\n\u001b[0m",
      "\u001b[1;31mStopIteration\u001b[0m: "
     ]
    }
   ],
   "source": [
    "next(x_iter) # as it reaches end it will give a stop iteration errorv"
   ]
  },
  {
   "cell_type": "code",
   "execution_count": 10,
   "id": "1a20e8db-278f-4cf3-94e4-cb0286b6074e",
   "metadata": {},
   "outputs": [
    {
     "data": {
      "text/plain": [
       "'abc'"
      ]
     },
     "execution_count": 10,
     "metadata": {},
     "output_type": "execute_result"
    }
   ],
   "source": [
    "\"\".join({\"a\",\"b\",\"c\"})"
   ]
  },
  {
   "cell_type": "code",
   "execution_count": 11,
   "id": "06a0b7fa-2d3d-4882-97a9-2184f2dbd9df",
   "metadata": {},
   "outputs": [
    {
     "data": {
      "text/plain": [
       "'a123b123c'"
      ]
     },
     "execution_count": 11,
     "metadata": {},
     "output_type": "execute_result"
    }
   ],
   "source": [
    "\"123\".join({\"a\",\"b\",\"c\"})"
   ]
  },
  {
   "cell_type": "code",
   "execution_count": 12,
   "id": "5934e3d0-1ab3-45d9-b14c-2f4bf05370da",
   "metadata": {},
   "outputs": [],
   "source": [
    "a=list(\"jayin\")"
   ]
  },
  {
   "cell_type": "code",
   "execution_count": 15,
   "id": "3cc7a541-3a59-460f-96b2-bc275c0170b5",
   "metadata": {},
   "outputs": [
    {
     "data": {
      "text/plain": [
       "'j+a+y+i+n'"
      ]
     },
     "execution_count": 15,
     "metadata": {},
     "output_type": "execute_result"
    }
   ],
   "source": [
    "\"+\".join(a)"
   ]
  },
  {
   "cell_type": "markdown",
   "id": "2e0ae2d2-e558-43ae-a023-a5cba73ccb42",
   "metadata": {},
   "source": [
    "## Generator\n",
    "Simple function and expression used to create iterator"
   ]
  },
  {
   "cell_type": "code",
   "execution_count": 16,
   "id": "816be943-37cf-45ee-bd2d-d50506fac469",
   "metadata": {},
   "outputs": [],
   "source": [
    "#any function having yield keyword is a generator function\n",
    "\n",
    "def fibo():\n",
    "    prev,curr=0,1\n",
    "    while True:\n",
    "        yield curr\n",
    "        prev,curr=curr,prev+curr"
   ]
  },
  {
   "cell_type": "code",
   "execution_count": 20,
   "id": "e730b45e-e491-4abc-b052-5f99c7bb9f82",
   "metadata": {},
   "outputs": [],
   "source": [
    "gen =  fibo()"
   ]
  },
  {
   "cell_type": "code",
   "execution_count": 21,
   "id": "76ac7bbb-d549-4783-a29c-ee041c35c30f",
   "metadata": {},
   "outputs": [
    {
     "data": {
      "text/plain": [
       "1"
      ]
     },
     "execution_count": 21,
     "metadata": {},
     "output_type": "execute_result"
    }
   ],
   "source": [
    "next(gen)"
   ]
  },
  {
   "cell_type": "code",
   "execution_count": 23,
   "id": "bb8282a6-bef2-4824-a38b-c2f86d3bae6e",
   "metadata": {},
   "outputs": [
    {
     "data": {
      "text/plain": [
       "2"
      ]
     },
     "execution_count": 23,
     "metadata": {},
     "output_type": "execute_result"
    }
   ],
   "source": [
    "next(gen)"
   ]
  },
  {
   "cell_type": "code",
   "execution_count": 24,
   "id": "52e86cfd-647b-4e92-89ba-6becce78c31d",
   "metadata": {},
   "outputs": [
    {
     "data": {
      "text/plain": [
       "3"
      ]
     },
     "execution_count": 24,
     "metadata": {},
     "output_type": "execute_result"
    }
   ],
   "source": [
    "next(gen)"
   ]
  },
  {
   "cell_type": "code",
   "execution_count": 25,
   "id": "bd8eecb4-ebb4-4e28-aff0-fd248879cdc7",
   "metadata": {},
   "outputs": [
    {
     "data": {
      "text/plain": [
       "5"
      ]
     },
     "execution_count": 25,
     "metadata": {},
     "output_type": "execute_result"
    }
   ],
   "source": [
    "next(gen)"
   ]
  },
  {
   "cell_type": "code",
   "execution_count": 26,
   "id": "6b34a714-2a74-4b25-b9e7-c8292723f6a7",
   "metadata": {},
   "outputs": [],
   "source": [
    "#generator expression  is  different from generator expression\n",
    "# we saw  tuple comprehension which is a generatot expression not a tuple comprehension\n",
    "\n",
    "gen=(x**2 for x in range(1,11))"
   ]
  },
  {
   "cell_type": "code",
   "execution_count": 27,
   "id": "a2e335db-0b77-4555-b28a-c65ac220b2a3",
   "metadata": {},
   "outputs": [
    {
     "data": {
      "text/plain": [
       "<generator object <genexpr> at 0x0000022681FEE040>"
      ]
     },
     "execution_count": 27,
     "metadata": {},
     "output_type": "execute_result"
    }
   ],
   "source": [
    "gen"
   ]
  },
  {
   "cell_type": "code",
   "execution_count": 29,
   "id": "3eaf7e14-fcaf-4745-9dfd-9fcbb9a24186",
   "metadata": {},
   "outputs": [
    {
     "data": {
      "text/plain": [
       "1"
      ]
     },
     "execution_count": 29,
     "metadata": {},
     "output_type": "execute_result"
    }
   ],
   "source": [
    "next(gen)"
   ]
  },
  {
   "cell_type": "code",
   "execution_count": 30,
   "id": "4a69066f-3d6f-480b-9102-f0f5496ef7a3",
   "metadata": {},
   "outputs": [
    {
     "data": {
      "text/plain": [
       "4"
      ]
     },
     "execution_count": 30,
     "metadata": {},
     "output_type": "execute_result"
    }
   ],
   "source": [
    "next(gen)"
   ]
  },
  {
   "cell_type": "code",
   "execution_count": 31,
   "id": "cc428b41-02ef-42b3-ac96-8b09cae3b411",
   "metadata": {},
   "outputs": [
    {
     "data": {
      "text/plain": [
       "9"
      ]
     },
     "execution_count": 31,
     "metadata": {},
     "output_type": "execute_result"
    }
   ],
   "source": [
    "next(gen)"
   ]
  },
  {
   "cell_type": "code",
   "execution_count": null,
   "id": "3ef98853-2d4e-4550-b13d-d491f29d9d28",
   "metadata": {},
   "outputs": [],
   "source": []
  }
 ],
 "metadata": {
  "kernelspec": {
   "display_name": "Python 3 (ipykernel)",
   "language": "python",
   "name": "python3"
  },
  "language_info": {
   "codemirror_mode": {
    "name": "ipython",
    "version": 3
   },
   "file_extension": ".py",
   "mimetype": "text/x-python",
   "name": "python",
   "nbconvert_exporter": "python",
   "pygments_lexer": "ipython3",
   "version": "3.9.7"
  }
 },
 "nbformat": 4,
 "nbformat_minor": 5
}
